{
 "cells": [
  {
   "cell_type": "code",
   "execution_count": 1,
   "metadata": {},
   "outputs": [],
   "source": [
    "import re"
   ]
  },
  {
   "cell_type": "code",
   "execution_count": 31,
   "metadata": {},
   "outputs": [
    {
     "name": "stdout",
     "output_type": "stream",
     "text": [
      "Om Sri \u001b[91mSai\u001b[39mram\n",
      "(7, 10)\n",
      "Om Sri Sairam\n",
      "Sai\n"
     ]
    }
   ],
   "source": [
    "def printDetails(m):\n",
    "    if m:\n",
    "        print(f\"{m.string[0:m.span()[0]]}\\033[91m{m.string[m.span()[0]:m.span()[1]]}\\033[39m{m.string[m.span()[1]:]}\")\n",
    "\n",
    "    else:\n",
    "        print(\"Not Found\")\n",
    "\n",
    "txt = \"Om Sri Sairam\"\n",
    "x = re.search(\"Sai\", txt)\n",
    "\n",
    "printDetails(x)\n",
    "\n",
    "if x:\n",
    "    print(x.span())\n",
    "    print(x.string)\n",
    "    print(x.group())\n"
   ]
  },
  {
   "cell_type": "code",
   "execution_count": 5,
   "metadata": {},
   "outputs": [
    {
     "name": "stdout",
     "output_type": "stream",
     "text": [
      "Om Sri \u001b[91mSai\u001b[39mram\n",
      "<re.Match object; span=(7, 10), match='Sai'>\n"
     ]
    }
   ],
   "source": [
    "x= re.search(\"[sS]ai\",txt)\n",
    "printDetails(x)\n",
    "print(x)"
   ]
  },
  {
   "cell_type": "code",
   "execution_count": 6,
   "metadata": {},
   "outputs": [
    {
     "name": "stdout",
     "output_type": "stream",
     "text": [
      "Om Sri \u001b[91mSai\u001b[39mram\n"
     ]
    }
   ],
   "source": [
    "x= re.search(\"[A-Z]ai\",txt)\n",
    "printDetails(x)"
   ]
  },
  {
   "cell_type": "code",
   "execution_count": 7,
   "metadata": {},
   "outputs": [
    {
     "name": "stdout",
     "output_type": "stream",
     "text": [
      "Not Found\n"
     ]
    }
   ],
   "source": [
    "x= re.search(\"[0-9]ai\",txt)\n",
    "printDetails(x)"
   ]
  },
  {
   "cell_type": "code",
   "execution_count": 8,
   "metadata": {},
   "outputs": [
    {
     "name": "stdout",
     "output_type": "stream",
     "text": [
      "Not Found\n"
     ]
    }
   ],
   "source": [
    "x= re.search(\"[a-z]ai\",txt)\n",
    "printDetails(x)"
   ]
  },
  {
   "cell_type": "code",
   "execution_count": 9,
   "metadata": {},
   "outputs": [
    {
     "name": "stdout",
     "output_type": "stream",
     "text": [
      "Om Sri \u001b[91mSai\u001b[39mram\n"
     ]
    }
   ],
   "source": [
    "x= re.search(\"[A-Za-c]ai\",txt)\n",
    "printDetails(x)"
   ]
  },
  {
   "cell_type": "code",
   "execution_count": 10,
   "metadata": {},
   "outputs": [
    {
     "name": "stdout",
     "output_type": "stream",
     "text": [
      "Om Sri \u001b[91mSai\u001b[39mram\n"
     ]
    }
   ],
   "source": [
    "x= re.search(\"[A-z]ai\",txt)\n",
    "printDetails(x)"
   ]
  },
  {
   "cell_type": "code",
   "execution_count": 11,
   "metadata": {},
   "outputs": [
    {
     "ename": "error",
     "evalue": "bad character range a-Z at position 1",
     "output_type": "error",
     "traceback": [
      "\u001b[1;31m---------------------------------------------------------------------------\u001b[0m",
      "\u001b[1;31merror\u001b[0m                                     Traceback (most recent call last)",
      "Cell \u001b[1;32mIn[11], line 1\u001b[0m\n\u001b[1;32m----> 1\u001b[0m x\u001b[39m=\u001b[39m re\u001b[39m.\u001b[39;49msearch(\u001b[39m\"\u001b[39;49m\u001b[39m[a-Z]ai\u001b[39;49m\u001b[39m\"\u001b[39;49m,txt)\n\u001b[0;32m      2\u001b[0m printDetails(x)\n",
      "File \u001b[1;32mc:\\Users\\Msc 2\\AppData\\Local\\Programs\\Python\\Python311\\Lib\\re\\__init__.py:176\u001b[0m, in \u001b[0;36msearch\u001b[1;34m(pattern, string, flags)\u001b[0m\n\u001b[0;32m    173\u001b[0m \u001b[39mdef\u001b[39;00m \u001b[39msearch\u001b[39m(pattern, string, flags\u001b[39m=\u001b[39m\u001b[39m0\u001b[39m):\n\u001b[0;32m    174\u001b[0m \u001b[39m    \u001b[39m\u001b[39m\"\"\"Scan through string looking for a match to the pattern, returning\u001b[39;00m\n\u001b[0;32m    175\u001b[0m \u001b[39m    a Match object, or None if no match was found.\"\"\"\u001b[39;00m\n\u001b[1;32m--> 176\u001b[0m     \u001b[39mreturn\u001b[39;00m _compile(pattern, flags)\u001b[39m.\u001b[39msearch(string)\n",
      "File \u001b[1;32mc:\\Users\\Msc 2\\AppData\\Local\\Programs\\Python\\Python311\\Lib\\re\\__init__.py:294\u001b[0m, in \u001b[0;36m_compile\u001b[1;34m(pattern, flags)\u001b[0m\n\u001b[0;32m    288\u001b[0m     \u001b[39mimport\u001b[39;00m \u001b[39mwarnings\u001b[39;00m\n\u001b[0;32m    289\u001b[0m     warnings\u001b[39m.\u001b[39mwarn(\u001b[39m\"\u001b[39m\u001b[39mThe re.TEMPLATE/re.T flag is deprecated \u001b[39m\u001b[39m\"\u001b[39m\n\u001b[0;32m    290\u001b[0m               \u001b[39m\"\u001b[39m\u001b[39mas it is an undocumented flag \u001b[39m\u001b[39m\"\u001b[39m\n\u001b[0;32m    291\u001b[0m               \u001b[39m\"\u001b[39m\u001b[39mwithout an obvious purpose. \u001b[39m\u001b[39m\"\u001b[39m\n\u001b[0;32m    292\u001b[0m               \u001b[39m\"\u001b[39m\u001b[39mDon\u001b[39m\u001b[39m'\u001b[39m\u001b[39mt use it.\u001b[39m\u001b[39m\"\u001b[39m,\n\u001b[0;32m    293\u001b[0m               \u001b[39mDeprecationWarning\u001b[39;00m)\n\u001b[1;32m--> 294\u001b[0m p \u001b[39m=\u001b[39m _compiler\u001b[39m.\u001b[39;49mcompile(pattern, flags)\n\u001b[0;32m    295\u001b[0m \u001b[39mif\u001b[39;00m \u001b[39mnot\u001b[39;00m (flags \u001b[39m&\u001b[39m DEBUG):\n\u001b[0;32m    296\u001b[0m     \u001b[39mif\u001b[39;00m \u001b[39mlen\u001b[39m(_cache) \u001b[39m>\u001b[39m\u001b[39m=\u001b[39m _MAXCACHE:\n\u001b[0;32m    297\u001b[0m         \u001b[39m# Drop the oldest item\u001b[39;00m\n",
      "File \u001b[1;32mc:\\Users\\Msc 2\\AppData\\Local\\Programs\\Python\\Python311\\Lib\\re\\_compiler.py:743\u001b[0m, in \u001b[0;36mcompile\u001b[1;34m(p, flags)\u001b[0m\n\u001b[0;32m    741\u001b[0m \u001b[39mif\u001b[39;00m isstring(p):\n\u001b[0;32m    742\u001b[0m     pattern \u001b[39m=\u001b[39m p\n\u001b[1;32m--> 743\u001b[0m     p \u001b[39m=\u001b[39m _parser\u001b[39m.\u001b[39;49mparse(p, flags)\n\u001b[0;32m    744\u001b[0m \u001b[39melse\u001b[39;00m:\n\u001b[0;32m    745\u001b[0m     pattern \u001b[39m=\u001b[39m \u001b[39mNone\u001b[39;00m\n",
      "File \u001b[1;32mc:\\Users\\Msc 2\\AppData\\Local\\Programs\\Python\\Python311\\Lib\\re\\_parser.py:980\u001b[0m, in \u001b[0;36mparse\u001b[1;34m(str, flags, state)\u001b[0m\n\u001b[0;32m    977\u001b[0m state\u001b[39m.\u001b[39mflags \u001b[39m=\u001b[39m flags\n\u001b[0;32m    978\u001b[0m state\u001b[39m.\u001b[39mstr \u001b[39m=\u001b[39m \u001b[39mstr\u001b[39m\n\u001b[1;32m--> 980\u001b[0m p \u001b[39m=\u001b[39m _parse_sub(source, state, flags \u001b[39m&\u001b[39;49m SRE_FLAG_VERBOSE, \u001b[39m0\u001b[39;49m)\n\u001b[0;32m    981\u001b[0m p\u001b[39m.\u001b[39mstate\u001b[39m.\u001b[39mflags \u001b[39m=\u001b[39m fix_flags(\u001b[39mstr\u001b[39m, p\u001b[39m.\u001b[39mstate\u001b[39m.\u001b[39mflags)\n\u001b[0;32m    983\u001b[0m \u001b[39mif\u001b[39;00m source\u001b[39m.\u001b[39mnext \u001b[39mis\u001b[39;00m \u001b[39mnot\u001b[39;00m \u001b[39mNone\u001b[39;00m:\n",
      "File \u001b[1;32mc:\\Users\\Msc 2\\AppData\\Local\\Programs\\Python\\Python311\\Lib\\re\\_parser.py:455\u001b[0m, in \u001b[0;36m_parse_sub\u001b[1;34m(source, state, verbose, nested)\u001b[0m\n\u001b[0;32m    453\u001b[0m start \u001b[39m=\u001b[39m source\u001b[39m.\u001b[39mtell()\n\u001b[0;32m    454\u001b[0m \u001b[39mwhile\u001b[39;00m \u001b[39mTrue\u001b[39;00m:\n\u001b[1;32m--> 455\u001b[0m     itemsappend(_parse(source, state, verbose, nested \u001b[39m+\u001b[39;49m \u001b[39m1\u001b[39;49m,\n\u001b[0;32m    456\u001b[0m                        \u001b[39mnot\u001b[39;49;00m nested \u001b[39mand\u001b[39;49;00m \u001b[39mnot\u001b[39;49;00m items))\n\u001b[0;32m    457\u001b[0m     \u001b[39mif\u001b[39;00m \u001b[39mnot\u001b[39;00m sourcematch(\u001b[39m\"\u001b[39m\u001b[39m|\u001b[39m\u001b[39m\"\u001b[39m):\n\u001b[0;32m    458\u001b[0m         \u001b[39mbreak\u001b[39;00m\n",
      "File \u001b[1;32mc:\\Users\\Msc 2\\AppData\\Local\\Programs\\Python\\Python311\\Lib\\re\\_parser.py:612\u001b[0m, in \u001b[0;36m_parse\u001b[1;34m(source, state, verbose, nested, first)\u001b[0m\n\u001b[0;32m    610\u001b[0m     \u001b[39mif\u001b[39;00m hi \u001b[39m<\u001b[39m lo:\n\u001b[0;32m    611\u001b[0m         msg \u001b[39m=\u001b[39m \u001b[39m\"\u001b[39m\u001b[39mbad character range \u001b[39m\u001b[39m%s\u001b[39;00m\u001b[39m-\u001b[39m\u001b[39m%s\u001b[39;00m\u001b[39m\"\u001b[39m \u001b[39m%\u001b[39m (this, that)\n\u001b[1;32m--> 612\u001b[0m         \u001b[39mraise\u001b[39;00m source\u001b[39m.\u001b[39merror(msg, \u001b[39mlen\u001b[39m(this) \u001b[39m+\u001b[39m \u001b[39m1\u001b[39m \u001b[39m+\u001b[39m \u001b[39mlen\u001b[39m(that))\n\u001b[0;32m    613\u001b[0m     setappend((RANGE, (lo, hi)))\n\u001b[0;32m    614\u001b[0m \u001b[39melse\u001b[39;00m:\n",
      "\u001b[1;31merror\u001b[0m: bad character range a-Z at position 1"
     ]
    }
   ],
   "source": [
    "x= re.search(\"[a-Z]ai\",txt)\n",
    "printDetails(x)"
   ]
  },
  {
   "cell_type": "code",
   "execution_count": 13,
   "metadata": {},
   "outputs": [
    {
     "name": "stdout",
     "output_type": "stream",
     "text": [
      "Om Sri \u001b[91msai\u001b[39m Ram\n"
     ]
    }
   ],
   "source": [
    "txt= 'Om Sri sai Ram'\n",
    "x= re.search(\"[s^S]ai\",txt)# s and not S\n",
    "printDetails(x)"
   ]
  },
  {
   "cell_type": "code",
   "execution_count": 14,
   "metadata": {},
   "outputs": [
    {
     "name": "stdout",
     "output_type": "stream",
     "text": [
      "Not Found\n"
     ]
    }
   ],
   "source": [
    "x= re.search(\"[^s]ai\",txt)\n",
    "printDetails(x)"
   ]
  },
  {
   "cell_type": "code",
   "execution_count": 15,
   "metadata": {},
   "outputs": [
    {
     "name": "stdout",
     "output_type": "stream",
     "text": [
      "Om Sri \u001b[91msai\u001b[39m Ram\n"
     ]
    }
   ],
   "source": [
    "x= re.search(\"[^0-9]ai\",txt)\n",
    "printDetails(x)"
   ]
  },
  {
   "cell_type": "code",
   "execution_count": 17,
   "metadata": {},
   "outputs": [
    {
     "name": "stdout",
     "output_type": "stream",
     "text": [
      "Not Found\n"
     ]
    }
   ],
   "source": [
    "x= re.search(\"[^s-z]ai\",txt) #not s to z\n",
    "printDetails(x)"
   ]
  },
  {
   "cell_type": "code",
   "execution_count": 19,
   "metadata": {},
   "outputs": [
    {
     "name": "stdout",
     "output_type": "stream",
     "text": [
      "Om Sri \u001b[91msai\u001b[39m Ram\n"
     ]
    }
   ],
   "source": [
    "x= re.search(\"[^.]ai\",txt) # no .\n",
    "printDetails(x)"
   ]
  },
  {
   "cell_type": "code",
   "execution_count": 21,
   "metadata": {},
   "outputs": [
    {
     "name": "stdout",
     "output_type": "stream",
     "text": [
      "Not Found\n"
     ]
    }
   ],
   "source": [
    "txt= 'Om Sri rai ram'\n",
    "x= re.search(\"[s^]ai\",txt) #it searches for s followed by a caret\n",
    "printDetails(x)"
   ]
  },
  {
   "cell_type": "code",
   "execution_count": 22,
   "metadata": {},
   "outputs": [
    {
     "name": "stdout",
     "output_type": "stream",
     "text": [
      "Not Found\n"
     ]
    }
   ],
   "source": [
    "x= re.search(\"[S^]ai\",txt)\n",
    "printDetails(x)"
   ]
  },
  {
   "cell_type": "code",
   "execution_count": 24,
   "metadata": {},
   "outputs": [
    {
     "name": "stdout",
     "output_type": "stream",
     "text": [
      "Not Found\n"
     ]
    }
   ],
   "source": [
    "x= re.search(\"[S^a]ai\",txt) # it searches S followed by caret followed by a\n",
    "printDetails(x)"
   ]
  },
  {
   "cell_type": "code",
   "execution_count": 39,
   "metadata": {},
   "outputs": [
    {
     "name": "stdout",
     "output_type": "stream",
     "text": [
      "Not Found\n",
      "Om Sri \u001b[91msai\u001b[39m Ram.Sai\n"
     ]
    }
   ],
   "source": [
    "txt= 'Om Sri Sai Ram.Sai'\n",
    "x= re.search(\"^Sai\",txt) #it is not found because there is no disjunction in it\n",
    "printDetails(x)\n",
    "\n",
    "txt1= 'Om Sri sai Ram.Sai'\n",
    "x1= re.search(\"[^S]ai\",txt1)\n",
    "printDetails(x1)"
   ]
  },
  {
   "cell_type": "code",
   "execution_count": 33,
   "metadata": {},
   "outputs": [
    {
     "name": "stdout",
     "output_type": "stream",
     "text": [
      "Not Found\n"
     ]
    }
   ],
   "source": [
    "txt= 'Om Sri S'\n",
    "x= re.search(\"Sai?\",txt)\n",
    "printDetails(x)"
   ]
  },
  {
   "cell_type": "code",
   "execution_count": 34,
   "metadata": {},
   "outputs": [
    {
     "name": "stdout",
     "output_type": "stream",
     "text": [
      "Om \u001b[91mS\u001b[39mri S\n"
     ]
    }
   ],
   "source": [
    "x= re.search(\"Sa?\",txt)\n",
    "printDetails(x)"
   ]
  },
  {
   "cell_type": "code",
   "execution_count": 40,
   "metadata": {},
   "outputs": [
    {
     "name": "stdout",
     "output_type": "stream",
     "text": [
      "Om Sr Si Ram\n",
      "Om Sr \u001b[91mSi\u001b[39m Ram\n"
     ]
    }
   ],
   "source": [
    "txt= 'Om Sr Si Ram'\n",
    "print(txt)\n",
    "x= re.search(\"S?i\",txt)\n",
    "printDetails(x)"
   ]
  },
  {
   "cell_type": "code",
   "execution_count": 43,
   "metadata": {},
   "outputs": [
    {
     "ename": "error",
     "evalue": "nothing to repeat at position 0",
     "output_type": "error",
     "traceback": [
      "\u001b[1;31m---------------------------------------------------------------------------\u001b[0m",
      "\u001b[1;31merror\u001b[0m                                     Traceback (most recent call last)",
      "Cell \u001b[1;32mIn[43], line 1\u001b[0m\n\u001b[1;32m----> 1\u001b[0m x\u001b[39m=\u001b[39m re\u001b[39m.\u001b[39;49msearch(\u001b[39m\"\u001b[39;49m\u001b[39m?\u001b[39;49m\u001b[39m\"\u001b[39;49m,txt) \u001b[39m#it is searching for something to return\u001b[39;00m\n\u001b[0;32m      2\u001b[0m printDetails(x)\n",
      "File \u001b[1;32mc:\\Users\\Msc 2\\AppData\\Local\\Programs\\Python\\Python311\\Lib\\re\\__init__.py:176\u001b[0m, in \u001b[0;36msearch\u001b[1;34m(pattern, string, flags)\u001b[0m\n\u001b[0;32m    173\u001b[0m \u001b[39mdef\u001b[39;00m \u001b[39msearch\u001b[39m(pattern, string, flags\u001b[39m=\u001b[39m\u001b[39m0\u001b[39m):\n\u001b[0;32m    174\u001b[0m \u001b[39m    \u001b[39m\u001b[39m\"\"\"Scan through string looking for a match to the pattern, returning\u001b[39;00m\n\u001b[0;32m    175\u001b[0m \u001b[39m    a Match object, or None if no match was found.\"\"\"\u001b[39;00m\n\u001b[1;32m--> 176\u001b[0m     \u001b[39mreturn\u001b[39;00m _compile(pattern, flags)\u001b[39m.\u001b[39msearch(string)\n",
      "File \u001b[1;32mc:\\Users\\Msc 2\\AppData\\Local\\Programs\\Python\\Python311\\Lib\\re\\__init__.py:294\u001b[0m, in \u001b[0;36m_compile\u001b[1;34m(pattern, flags)\u001b[0m\n\u001b[0;32m    288\u001b[0m     \u001b[39mimport\u001b[39;00m \u001b[39mwarnings\u001b[39;00m\n\u001b[0;32m    289\u001b[0m     warnings\u001b[39m.\u001b[39mwarn(\u001b[39m\"\u001b[39m\u001b[39mThe re.TEMPLATE/re.T flag is deprecated \u001b[39m\u001b[39m\"\u001b[39m\n\u001b[0;32m    290\u001b[0m               \u001b[39m\"\u001b[39m\u001b[39mas it is an undocumented flag \u001b[39m\u001b[39m\"\u001b[39m\n\u001b[0;32m    291\u001b[0m               \u001b[39m\"\u001b[39m\u001b[39mwithout an obvious purpose. \u001b[39m\u001b[39m\"\u001b[39m\n\u001b[0;32m    292\u001b[0m               \u001b[39m\"\u001b[39m\u001b[39mDon\u001b[39m\u001b[39m'\u001b[39m\u001b[39mt use it.\u001b[39m\u001b[39m\"\u001b[39m,\n\u001b[0;32m    293\u001b[0m               \u001b[39mDeprecationWarning\u001b[39;00m)\n\u001b[1;32m--> 294\u001b[0m p \u001b[39m=\u001b[39m _compiler\u001b[39m.\u001b[39;49mcompile(pattern, flags)\n\u001b[0;32m    295\u001b[0m \u001b[39mif\u001b[39;00m \u001b[39mnot\u001b[39;00m (flags \u001b[39m&\u001b[39m DEBUG):\n\u001b[0;32m    296\u001b[0m     \u001b[39mif\u001b[39;00m \u001b[39mlen\u001b[39m(_cache) \u001b[39m>\u001b[39m\u001b[39m=\u001b[39m _MAXCACHE:\n\u001b[0;32m    297\u001b[0m         \u001b[39m# Drop the oldest item\u001b[39;00m\n",
      "File \u001b[1;32mc:\\Users\\Msc 2\\AppData\\Local\\Programs\\Python\\Python311\\Lib\\re\\_compiler.py:743\u001b[0m, in \u001b[0;36mcompile\u001b[1;34m(p, flags)\u001b[0m\n\u001b[0;32m    741\u001b[0m \u001b[39mif\u001b[39;00m isstring(p):\n\u001b[0;32m    742\u001b[0m     pattern \u001b[39m=\u001b[39m p\n\u001b[1;32m--> 743\u001b[0m     p \u001b[39m=\u001b[39m _parser\u001b[39m.\u001b[39;49mparse(p, flags)\n\u001b[0;32m    744\u001b[0m \u001b[39melse\u001b[39;00m:\n\u001b[0;32m    745\u001b[0m     pattern \u001b[39m=\u001b[39m \u001b[39mNone\u001b[39;00m\n",
      "File \u001b[1;32mc:\\Users\\Msc 2\\AppData\\Local\\Programs\\Python\\Python311\\Lib\\re\\_parser.py:980\u001b[0m, in \u001b[0;36mparse\u001b[1;34m(str, flags, state)\u001b[0m\n\u001b[0;32m    977\u001b[0m state\u001b[39m.\u001b[39mflags \u001b[39m=\u001b[39m flags\n\u001b[0;32m    978\u001b[0m state\u001b[39m.\u001b[39mstr \u001b[39m=\u001b[39m \u001b[39mstr\u001b[39m\n\u001b[1;32m--> 980\u001b[0m p \u001b[39m=\u001b[39m _parse_sub(source, state, flags \u001b[39m&\u001b[39;49m SRE_FLAG_VERBOSE, \u001b[39m0\u001b[39;49m)\n\u001b[0;32m    981\u001b[0m p\u001b[39m.\u001b[39mstate\u001b[39m.\u001b[39mflags \u001b[39m=\u001b[39m fix_flags(\u001b[39mstr\u001b[39m, p\u001b[39m.\u001b[39mstate\u001b[39m.\u001b[39mflags)\n\u001b[0;32m    983\u001b[0m \u001b[39mif\u001b[39;00m source\u001b[39m.\u001b[39mnext \u001b[39mis\u001b[39;00m \u001b[39mnot\u001b[39;00m \u001b[39mNone\u001b[39;00m:\n",
      "File \u001b[1;32mc:\\Users\\Msc 2\\AppData\\Local\\Programs\\Python\\Python311\\Lib\\re\\_parser.py:455\u001b[0m, in \u001b[0;36m_parse_sub\u001b[1;34m(source, state, verbose, nested)\u001b[0m\n\u001b[0;32m    453\u001b[0m start \u001b[39m=\u001b[39m source\u001b[39m.\u001b[39mtell()\n\u001b[0;32m    454\u001b[0m \u001b[39mwhile\u001b[39;00m \u001b[39mTrue\u001b[39;00m:\n\u001b[1;32m--> 455\u001b[0m     itemsappend(_parse(source, state, verbose, nested \u001b[39m+\u001b[39;49m \u001b[39m1\u001b[39;49m,\n\u001b[0;32m    456\u001b[0m                        \u001b[39mnot\u001b[39;49;00m nested \u001b[39mand\u001b[39;49;00m \u001b[39mnot\u001b[39;49;00m items))\n\u001b[0;32m    457\u001b[0m     \u001b[39mif\u001b[39;00m \u001b[39mnot\u001b[39;00m sourcematch(\u001b[39m\"\u001b[39m\u001b[39m|\u001b[39m\u001b[39m\"\u001b[39m):\n\u001b[0;32m    458\u001b[0m         \u001b[39mbreak\u001b[39;00m\n",
      "File \u001b[1;32mc:\\Users\\Msc 2\\AppData\\Local\\Programs\\Python\\Python311\\Lib\\re\\_parser.py:682\u001b[0m, in \u001b[0;36m_parse\u001b[1;34m(source, state, verbose, nested, first)\u001b[0m\n\u001b[0;32m    680\u001b[0m     item \u001b[39m=\u001b[39m \u001b[39mNone\u001b[39;00m\n\u001b[0;32m    681\u001b[0m \u001b[39mif\u001b[39;00m \u001b[39mnot\u001b[39;00m item \u001b[39mor\u001b[39;00m item[\u001b[39m0\u001b[39m][\u001b[39m0\u001b[39m] \u001b[39mis\u001b[39;00m AT:\n\u001b[1;32m--> 682\u001b[0m     \u001b[39mraise\u001b[39;00m source\u001b[39m.\u001b[39merror(\u001b[39m\"\u001b[39m\u001b[39mnothing to repeat\u001b[39m\u001b[39m\"\u001b[39m,\n\u001b[0;32m    683\u001b[0m                        source\u001b[39m.\u001b[39mtell() \u001b[39m-\u001b[39m here \u001b[39m+\u001b[39m \u001b[39mlen\u001b[39m(this))\n\u001b[0;32m    684\u001b[0m \u001b[39mif\u001b[39;00m item[\u001b[39m0\u001b[39m][\u001b[39m0\u001b[39m] \u001b[39min\u001b[39;00m _REPEATCODES:\n\u001b[0;32m    685\u001b[0m     \u001b[39mraise\u001b[39;00m source\u001b[39m.\u001b[39merror(\u001b[39m\"\u001b[39m\u001b[39mmultiple repeat\u001b[39m\u001b[39m\"\u001b[39m,\n\u001b[0;32m    686\u001b[0m                        source\u001b[39m.\u001b[39mtell() \u001b[39m-\u001b[39m here \u001b[39m+\u001b[39m \u001b[39mlen\u001b[39m(this))\n",
      "\u001b[1;31merror\u001b[0m: nothing to repeat at position 0"
     ]
    }
   ],
   "source": [
    "x= re.search(\"?\",txt) #it is searching for something to return\n",
    "printDetails(x)"
   ]
  },
  {
   "cell_type": "code",
   "execution_count": 45,
   "metadata": {},
   "outputs": [
    {
     "name": "stdout",
     "output_type": "stream",
     "text": [
      "Not Found\n"
     ]
    }
   ],
   "source": [
    "x= re.search(\"\\?\",txt) #here it is searching for actual ? symbol\n",
    "printDetails(x)"
   ]
  },
  {
   "cell_type": "code",
   "execution_count": 46,
   "metadata": {},
   "outputs": [
    {
     "name": "stdout",
     "output_type": "stream",
     "text": [
      "\u001b[91mbaba\u001b[39m baabaa baaaabaaa\n"
     ]
    }
   ],
   "source": [
    "txt= \"baba baabaa baaaabaaa\"\n",
    "x= re.search(\"baba\",txt)\n",
    "printDetails(x)"
   ]
  },
  {
   "cell_type": "code",
   "execution_count": 47,
   "metadata": {},
   "outputs": [
    {
     "name": "stdout",
     "output_type": "stream",
     "text": [
      "\u001b[91mbb\u001b[39m\n"
     ]
    }
   ],
   "source": [
    "txt= \"bb\"\n",
    "x= re.search(\"ba*ba*\",txt) #* denotes that the previous part should be present 0 or more times\n",
    "printDetails(x)"
   ]
  },
  {
   "cell_type": "code",
   "execution_count": 48,
   "metadata": {},
   "outputs": [
    {
     "name": "stdout",
     "output_type": "stream",
     "text": [
      "\u001b[91mbaabaa\u001b[39m baaaabaaa\n"
     ]
    }
   ],
   "source": [
    "txt= \"baabaa baaaabaaa\"\n",
    "x= re.search(\"baa*baa*\",txt)\n",
    "printDetails(x)"
   ]
  },
  {
   "cell_type": "code",
   "execution_count": 49,
   "metadata": {},
   "outputs": [
    {
     "name": "stdout",
     "output_type": "stream",
     "text": [
      "['bba', 'baabaa', 'baaaabaaa']\n"
     ]
    }
   ],
   "source": [
    "txt= \"bba baabaa baaaabaaa\"\n",
    "x= re.findall(\"ba*ba*\",txt)\n",
    "print(x)"
   ]
  },
  {
   "cell_type": "code",
   "execution_count": 51,
   "metadata": {},
   "outputs": [
    {
     "name": "stdout",
     "output_type": "stream",
     "text": [
      "['baabaa', 'baaaabaaa']\n"
     ]
    }
   ],
   "source": [
    "txt= \"bba baabaa baaaabaaa\"\n",
    "x= re.findall(\"baa*baa*\",txt) # here it should have ba and one more a can occur 0 or more times\n",
    "print(x)"
   ]
  },
  {
   "cell_type": "code",
   "execution_count": 52,
   "metadata": {},
   "outputs": [
    {
     "name": "stdout",
     "output_type": "stream",
     "text": [
      "<re.Match object; span=(0, 0), match=''>\n",
      "['', '', 'ba', '', '', '', '']\n"
     ]
    }
   ],
   "source": [
    "txt= \"ggbadef\"\n",
    "x= re.search(\"b*a*\",txt)\n",
    "print(x)\n",
    "x= re.findall(\"b*a*\",txt)\n",
    "print(x)"
   ]
  },
  {
   "cell_type": "code",
   "execution_count": 53,
   "metadata": {},
   "outputs": [
    {
     "name": "stdout",
     "output_type": "stream",
     "text": [
      "\u001b[91mba\u001b[39mba baabaa baaaabaaa\n",
      "['ba', 'ba', '', 'baa', 'baa', '', 'baaaa', 'baaa', '']\n"
     ]
    }
   ],
   "source": [
    "txt= \"baba baabaa baaaabaaa\"\n",
    "x= re.search(\"b*a*\",txt)\n",
    "printDetails(x)\n",
    "x= re.findall(\"b*a*\",txt)\n",
    "print(x)"
   ]
  },
  {
   "cell_type": "code",
   "execution_count": 60,
   "metadata": {},
   "outputs": [
    {
     "name": "stdout",
     "output_type": "stream",
     "text": [
      "\u001b[91mbabaaaaaabbbb\u001b[39m cccc\n",
      "\u001b[91mb\u001b[39mabaaaaaabbbb cccc\n",
      "['babaaaaaabbbb', '', '', '', '', '', '']\n",
      "['b', '', 'b', '', '', '', '', '', '', 'bbbb', '', '', '', '', '', '']\n"
     ]
    }
   ],
   "source": [
    "txt= \"babaaaaaabbbb cccc\"\n",
    "x= re.search(\"[ba]*\",txt)\n",
    "printDetails(x)\n",
    "\n",
    "x= re.search(\"[b]*\",txt)\n",
    "printDetails(x)\n",
    "\n",
    "x= re.findall(\"[ba]*\",txt)#maximal search with either b or a\n",
    "print(x)\n",
    "\n",
    "x= re.findall(\"[b]*\",txt)\n",
    "print(x)"
   ]
  },
  {
   "cell_type": "code",
   "execution_count": 62,
   "metadata": {},
   "outputs": [
    {
     "name": "stdout",
     "output_type": "stream",
     "text": [
      "\u001b[91mbaba\u001b[39m aaaaa bbbb cccc\n",
      "['baba', 'aaaaa', 'bbbb']\n"
     ]
    }
   ],
   "source": [
    "txt= \"baba aaaaa bbbb cccc\"\n",
    "x= re.search(\"[ba][ba]*\",txt)# either b or a and b or a\n",
    "printDetails(x)\n",
    "x= re.findall(\"[ba][ba]*\",txt)\n",
    "print(x)"
   ]
  },
  {
   "cell_type": "code",
   "execution_count": 65,
   "metadata": {},
   "outputs": [
    {
     "name": "stdout",
     "output_type": "stream",
     "text": [
      "\u001b[91mbaba\u001b[39m aaaaa bbbb cccc\n",
      "['baba', 'aaaaa', 'bbbb']\n"
     ]
    }
   ],
   "source": [
    "txt= \"baba aaaaa bbbb cccc\"\n",
    "x= re.search(\"[ba]+\",txt) # this tell atleast one occurance of the previous part should be present\n",
    "printDetails(x)\n",
    "x= re.findall(\"[ba]+\",txt)\n",
    "print(x)"
   ]
  },
  {
   "cell_type": "code",
   "execution_count": 68,
   "metadata": {},
   "outputs": [
    {
     "name": "stdout",
     "output_type": "stream",
     "text": [
      "bba bca bsc msc a\n",
      "a\n",
      "\u001b[91mbba bca bsc msc a\u001b[39m\n",
      "a\n",
      "['bba bca bsc msc a']\n",
      "bba bca bsc msc \n",
      "a\n",
      "\u001b[91mbba bca\u001b[39m bsc msc \n",
      "a\n",
      "['bba bca']\n"
     ]
    }
   ],
   "source": [
    "txt= \"bba bca bsc msc a\\na\"\n",
    "print(txt)\n",
    "x= re.search(\"b.*a\",txt)\n",
    "printDetails(x)\n",
    "x= re.findall(\"b.*a\",txt) # any letter between b and a any no of time even if it is a space\n",
    "print(x)\n",
    "\n",
    "# for more clarity see the difference below\n",
    "\n",
    "txt= \"bba bca bsc msc \\na\"\n",
    "print(txt)\n",
    "x= re.search(\"b.*a\",txt)\n",
    "printDetails(x)\n",
    "x= re.findall(\"b.*a\",txt) # any letter between b and a any no of time\n",
    "print(x)"
   ]
  },
  {
   "cell_type": "code",
   "execution_count": 71,
   "metadata": {},
   "outputs": [
    {
     "name": "stdout",
     "output_type": "stream",
     "text": [
      "first line \n",
      " dog \u001b[91mcats\u001b[39m dog cats dog second line \n",
      " third line cats \n",
      " fourth line cats dog catssssd\n",
      "['cats', 'cats', 'cats', 'cats', 'catssss']\n",
      "first line \n",
      " dog cat dog \u001b[91mcats\u001b[39m dog second line \n",
      " third line cats \n",
      " fourth line cats dog catssssd\n",
      "['cats', 'cats', 'cats', 'catssss']\n"
     ]
    }
   ],
   "source": [
    "#Find the statement with two cats\n",
    "txt= \"first line \\n dog cats dog cats dog second line \\n third line cats \\n fourth line cats dog catssssd\"\n",
    "x= re.search(\"cats+\",txt)\n",
    "printDetails(x)\n",
    "x= re.findall(\"cats+\",txt)\n",
    "print(x)\n",
    "\n",
    "#variation\n",
    "\n",
    "txt= \"first line \\n dog cat dog cats dog second line \\n third line cats \\n fourth line cats dog catssssd\"\n",
    "x= re.search(\"cats+\",txt)\n",
    "printDetails(x)\n",
    "x= re.findall(\"cats+\",txt)\n",
    "print(x)"
   ]
  },
  {
   "cell_type": "code",
   "execution_count": 70,
   "metadata": {},
   "outputs": [
    {
     "name": "stdout",
     "output_type": "stream",
     "text": [
      "first line \n",
      " dog catscats dog dog second line \n",
      " third line cats \n",
      " fourth line \u001b[91mcats dog cats\u001b[39msssd\n",
      "['cats dog cats']\n"
     ]
    }
   ],
   "source": [
    "#Find the statement with two cats\n",
    "txt= \"first line \\n dog catscats dog dog second line \\n third line cats \\n fourth line cats dog catssssd\"\n",
    "#txt= \"first line \\n dog catscats dog dog second line \\n third line cats cats fourth line cats dog catssssd\"\n",
    "x= re.search(\"cats.+cats\",txt)\n",
    "printDetails(x)\n",
    "x= re.findall(\"cats.+cats\",txt)\n",
    "print(x)"
   ]
  },
  {
   "cell_type": "code",
   "execution_count": 73,
   "metadata": {},
   "outputs": [
    {
     "name": "stdout",
     "output_type": "stream",
     "text": [
      "first line \n",
      " dog \u001b[91mcatscats\u001b[39m dog dog second line \n",
      " third line cats \n",
      " fourth line cats dog catssssd\n",
      "['catscats', 'cats dog cats']\n"
     ]
    }
   ],
   "source": [
    "#Find the statement with two cats\n",
    "txt= \"first line \\n dog catscats dog dog second line \\n third line cats \\n fourth line cats dog catssssd\"\n",
    "#txt= \"first line \\n dog catscats dog dog second line \\n third line cats cats fourth line cats dog catssssd\"\n",
    "x= re.search(\"cats.*cats\",txt)#starting with cats and ending with cats with any no of letters in between\n",
    "printDetails(x)\n",
    "x= re.findall(\"cats.*cats\",txt)\n",
    "print(x)"
   ]
  },
  {
   "cell_type": "code",
   "execution_count": 75,
   "metadata": {},
   "outputs": [
    {
     "name": "stdout",
     "output_type": "stream",
     "text": [
      " The first line.\n",
      " The second line.\n",
      "\u001b[91mThe\u001b[39m The third line.\n",
      "The fourth line. \n",
      "['The', 'The']\n"
     ]
    }
   ],
   "source": [
    "txt= \" The first line.\\n The second line.\\nThe The third line.\\nThe fourth line. \"\n",
    "x= re.search(\"^The\",txt, flags=re.MULTILINE) #starting with the word \"The\"\n",
    "printDetails(x)\n",
    "x= re.findall(\"^The\",txt, flags=re.MULTILINE)\n",
    "print(x)"
   ]
  },
  {
   "cell_type": "code",
   "execution_count": 77,
   "metadata": {},
   "outputs": [
    {
     "name": "stdout",
     "output_type": "stream",
     "text": [
      " The \u001b[91mfirst line\u001b[39m\n",
      " The second line.\n",
      "The third line\n",
      "The fourth line\n",
      "['first line']\n",
      " The \u001b[91mfirst line\u001b[39m\n",
      " The second line.\n",
      "The third line\n",
      "The fourth line is not first line\n",
      "['first line', 'first line']\n"
     ]
    }
   ],
   "source": [
    "txt= \" The first line\\n The second line.\\nThe third line\\nThe fourth line\"\n",
    "x= re.search(\"first line$\",txt, flags=re.MULTILINE) #ending with \"first line\"\n",
    "printDetails(x)\n",
    "x= re.findall(\"first line$\",txt, flags=re.MULTILINE)\n",
    "print(x)\n",
    "\n",
    "#variation\n",
    "\n",
    "txt= \" The first line\\n The second line.\\nThe third line\\nThe fourth line is not first line\"\n",
    "x= re.search(\"first line$\",txt, flags=re.MULTILINE) #ending with \"first line\"\n",
    "printDetails(x)\n",
    "x= re.findall(\"first line$\",txt, flags=re.MULTILINE)\n",
    "print(x)"
   ]
  },
  {
   "cell_type": "code",
   "execution_count": 81,
   "metadata": {},
   "outputs": [
    {
     "name": "stdout",
     "output_type": "stream",
     "text": [
      " The first line\u001b[91m.\u001b[39m\n",
      " The second line.\n",
      "The third line.\n",
      "The fourth line. s\n",
      "['.', '.', '.', 's']\n"
     ]
    }
   ],
   "source": [
    "txt= \" The first line.\\n The second line.\\nThe third line.\\nThe fourth line. s\"\n",
    "x= re.search(\".$\",txt, flags=re.MULTILINE) # ending with anything\n",
    "printDetails(x)\n",
    "x= re.findall(\".$\",txt, flags=re.MULTILINE)\n",
    "print(x)"
   ]
  },
  {
   "cell_type": "code",
   "execution_count": 82,
   "metadata": {},
   "outputs": [
    {
     "name": "stdout",
     "output_type": "stream",
     "text": [
      " The first line\u001b[91m.\u001b[39m\n",
      " The second line.\n",
      "The third line.\n",
      "The fourth line. \n",
      "['.', '.', '.']\n"
     ]
    }
   ],
   "source": [
    "txt= \" The first line.\\n The second line.\\nThe third line.\\nThe fourth line. \"\n",
    "x= re.search(\"\\.$\",txt, flags=re.MULTILINE) #ending with the symbol \".\"\n",
    "printDetails(x)\n",
    "x= re.findall(\"\\.$\",txt, flags=re.MULTILINE)\n",
    "print(x)"
   ]
  },
  {
   "cell_type": "code",
   "execution_count": 83,
   "metadata": {},
   "outputs": [
    {
     "name": "stdout",
     "output_type": "stream",
     "text": [
      "\u001b[91mthe\u001b[39mre is the. other in theirs\n",
      "[]\n"
     ]
    }
   ],
   "source": [
    "txt= \"there is the. other in theirs\"\n",
    "x= re.search(\"the\",txt)\n",
    "printDetails(x)\n",
    "x= re.findall(\" the \",txt)\n",
    "print(x)"
   ]
  },
  {
   "cell_type": "code",
   "execution_count": 88,
   "metadata": {},
   "outputs": [
    {
     "name": "stdout",
     "output_type": "stream",
     "text": [
      "there is the other in theirs\n",
      "there is \u001b[91mthe\u001b[39m other in theirs\n",
      "['the']\n",
      "there is the. other in theirs\n",
      "there is \u001b[91mthe\u001b[39m. other in theirs\n",
      "['the']\n"
     ]
    }
   ],
   "source": [
    "txt= \"there is the other in theirs\"\n",
    "print(txt)\n",
    "x= re.search(r\"\\bthe\\b\",txt)\n",
    "printDetails(x)\n",
    "x= re.findall(\"\\\\bthe\\\\b\",txt)\n",
    "print(x)\n",
    "\n",
    "#variaion\n",
    "\n",
    "txt= \"there is the. other in theirs\"\n",
    "print(txt)\n",
    "x= re.search(r\"\\bthe\\b\",txt)\n",
    "printDetails(x)\n",
    "x= re.findall(\"\\\\bthe\\\\b\",txt)\n",
    "print(x)\n",
    "#here \".\" is considered"
   ]
  },
  {
   "cell_type": "code",
   "execution_count": 89,
   "metadata": {},
   "outputs": [
    {
     "name": "stdout",
     "output_type": "stream",
     "text": [
      "his reg no is \u001b[91m99\u001b[39m. his rank is 199. he bought a shirt for Rs. 299 which in dollars is $99\n",
      "['99', '99']\n"
     ]
    }
   ],
   "source": [
    "txt= \"his reg no is 99. his rank is 199. he bought a shirt for Rs. 299 which in dollars is $99\"\n",
    "x= re.search(\"\\\\b99\\\\b\",txt)\n",
    "printDetails(x)\n",
    "x= re.findall(\"\\\\b99\\\\b\",txt)\n",
    "print(x)"
   ]
  },
  {
   "cell_type": "code",
   "execution_count": 90,
   "metadata": {},
   "outputs": [
    {
     "name": "stdout",
     "output_type": "stream",
     "text": [
      "his reg no is \u001b[91m99\u001b[39m. his rank is 199. he bought a shirt for Rs. 299 which in dollars is $99\n",
      "his reg no is 99. his rank is 199. he bought a shirt for Rs. 299 which in dollars is $\u001b[91m99\u001b[39m\n"
     ]
    }
   ],
   "source": [
    "txt= \"his reg no is 99. his rank is 199. he bought a shirt for Rs. 299 which in dollars is $99\"\n",
    "x= re.finditer(\"\\\\b99\\\\b\",txt)\n",
    "for m in x:\n",
    "    printDetails(m)"
   ]
  },
  {
   "cell_type": "code",
   "execution_count": 92,
   "metadata": {},
   "outputs": [
    {
     "name": "stdout",
     "output_type": "stream",
     "text": [
      "This line h\u001b[91ma\u001b[39ms none. \n",
      "This line has a cat.\n",
      "This line has a dog.\n",
      "This line has a cat and a dog.\n",
      "This line has n\u001b[91mo\u001b[39mne. \n",
      "This line has a cat.\n",
      "This line has a dog.\n",
      "This line has a cat and a dog.\n",
      "This line has none. \n",
      "This line h\u001b[91ma\u001b[39ms a cat.\n",
      "This line has a dog.\n",
      "This line has a cat and a dog.\n",
      "This line has none. \n",
      "This line has \u001b[91ma\u001b[39m cat.\n",
      "This line has a dog.\n",
      "This line has a cat and a dog.\n",
      "This line has none. \n",
      "This line has a \u001b[91mc\u001b[39mat.\n",
      "This line has a dog.\n",
      "This line has a cat and a dog.\n",
      "This line has none. \n",
      "This line has a c\u001b[91ma\u001b[39mt.\n",
      "This line has a dog.\n",
      "This line has a cat and a dog.\n",
      "This line has none. \n",
      "This line has a ca\u001b[91mt\u001b[39m.\n",
      "This line has a dog.\n",
      "This line has a cat and a dog.\n",
      "This line has none. \n",
      "This line has a cat.\n",
      "This line h\u001b[91ma\u001b[39ms a dog.\n",
      "This line has a cat and a dog.\n",
      "This line has none. \n",
      "This line has a cat.\n",
      "This line has \u001b[91ma\u001b[39m dog.\n",
      "This line has a cat and a dog.\n",
      "This line has none. \n",
      "This line has a cat.\n",
      "This line has a \u001b[91md\u001b[39mog.\n",
      "This line has a cat and a dog.\n",
      "This line has none. \n",
      "This line has a cat.\n",
      "This line has a d\u001b[91mo\u001b[39mg.\n",
      "This line has a cat and a dog.\n",
      "This line has none. \n",
      "This line has a cat.\n",
      "This line has a do\u001b[91mg\u001b[39m.\n",
      "This line has a cat and a dog.\n",
      "This line has none. \n",
      "This line has a cat.\n",
      "This line has a dog.\n",
      "This line h\u001b[91ma\u001b[39ms a cat and a dog.\n",
      "This line has none. \n",
      "This line has a cat.\n",
      "This line has a dog.\n",
      "This line has \u001b[91ma\u001b[39m cat and a dog.\n",
      "This line has none. \n",
      "This line has a cat.\n",
      "This line has a dog.\n",
      "This line has a \u001b[91mc\u001b[39mat and a dog.\n",
      "This line has none. \n",
      "This line has a cat.\n",
      "This line has a dog.\n",
      "This line has a c\u001b[91ma\u001b[39mt and a dog.\n",
      "This line has none. \n",
      "This line has a cat.\n",
      "This line has a dog.\n",
      "This line has a ca\u001b[91mt\u001b[39m and a dog.\n",
      "This line has none. \n",
      "This line has a cat.\n",
      "This line has a dog.\n",
      "This line has a cat \u001b[91ma\u001b[39mnd a dog.\n",
      "This line has none. \n",
      "This line has a cat.\n",
      "This line has a dog.\n",
      "This line has a cat an\u001b[91md\u001b[39m a dog.\n",
      "This line has none. \n",
      "This line has a cat.\n",
      "This line has a dog.\n",
      "This line has a cat and \u001b[91ma\u001b[39m dog.\n",
      "This line has none. \n",
      "This line has a cat.\n",
      "This line has a dog.\n",
      "This line has a cat and a \u001b[91md\u001b[39mog.\n",
      "This line has none. \n",
      "This line has a cat.\n",
      "This line has a dog.\n",
      "This line has a cat and a d\u001b[91mo\u001b[39mg.\n",
      "This line has none. \n",
      "This line has a cat.\n",
      "This line has a dog.\n",
      "This line has a cat and a do\u001b[91mg\u001b[39m.\n"
     ]
    }
   ],
   "source": [
    "#Find all cats or dogs. Why does'nt this work?\n",
    "txt= \"This line has none. \\nThis line has a cat.\\nThis line has a dog.\\nThis line has a cat and a dog.\"\n",
    "x= re.finditer(\"[catdog]\",txt)\n",
    "for m in x:\n",
    "    printDetails(m)\n",
    "\n",
    "# here it searches for any letter in the disjunction"
   ]
  },
  {
   "cell_type": "code",
   "execution_count": 94,
   "metadata": {},
   "outputs": [
    {
     "name": "stdout",
     "output_type": "stream",
     "text": [
      "0\n",
      "This line has none. \n",
      "This line has a \u001b[91mcat\u001b[39m.\n",
      "This line has a dog.\n",
      "This line has a cat and a dog.\n",
      "1\n",
      "This line has none. \n",
      "This line has a cat.\n",
      "This line has a \u001b[91mdog\u001b[39m.\n",
      "This line has a cat and a dog.\n",
      "2\n",
      "This line has none. \n",
      "This line has a cat.\n",
      "This line has a dog.\n",
      "This line has a \u001b[91mcat\u001b[39m and a dog.\n",
      "3\n",
      "This line has none. \n",
      "This line has a cat.\n",
      "This line has a dog.\n",
      "This line has a cat and a \u001b[91mdog\u001b[39m.\n"
     ]
    }
   ],
   "source": [
    "#Find all cats or dogs.\n",
    "txt= \"This line has none. \\nThis line has a cat.\\nThis line has a dog.\\nThis line has a cat and a dog.\"\n",
    "x= re.finditer(\"cat|dog\",txt)#either cat or dog\n",
    "for i,m in enumerate(x):\n",
    "    print(i)\n",
    "    printDetails(m)"
   ]
  },
  {
   "cell_type": "code",
   "execution_count": 96,
   "metadata": {},
   "outputs": [
    {
     "name": "stdout",
     "output_type": "stream",
     "text": [
      "0\n",
      "This line is \u001b[91mfunny\u001b[39m. \n",
      "This line is more funny.\n",
      "This line is funnier.\n",
      "This line has no fun but carrier.\n",
      "1\n",
      "This line is funny. \n",
      "This line is more \u001b[91mfunny\u001b[39m.\n",
      "This line is funnier.\n",
      "This line has no fun but carrier.\n",
      "2\n",
      "This line is funny. \n",
      "This line is more funny.\n",
      "This line is funn\u001b[91mier\u001b[39m.\n",
      "This line has no fun but carrier.\n",
      "3\n",
      "This line is funny. \n",
      "This line is more funny.\n",
      "This line is funnier.\n",
      "This line has no fun but carr\u001b[91mier\u001b[39m.\n"
     ]
    }
   ],
   "source": [
    "#Find all instances of funny or funnier.\n",
    "txt= \"This line is funny. \\nThis line is more funny.\\nThis line is funnier.\\nThis line has no fun but carrier.\"\n",
    "x= re.finditer(\"funny|ier\",txt)#either funny or ier\n",
    "for i,m in enumerate(x):\n",
    "    print(i)\n",
    "    printDetails(m)"
   ]
  },
  {
   "cell_type": "code",
   "execution_count": 98,
   "metadata": {},
   "outputs": [
    {
     "name": "stdout",
     "output_type": "stream",
     "text": [
      "0\n",
      "This line is \u001b[91mfunny\u001b[39m. \n",
      "This line is more funny.\n",
      "This line is funnier.\n",
      "This line has no fun but carrier.\n",
      "1\n",
      "This line is funny. \n",
      "This line is more \u001b[91mfunny\u001b[39m.\n",
      "This line is funnier.\n",
      "This line has no fun but carrier.\n",
      "2\n",
      "This line is funny. \n",
      "This line is more funny.\n",
      "This line is \u001b[91mfunnier\u001b[39m.\n",
      "This line has no fun but carrier.\n"
     ]
    }
   ],
   "source": [
    "#Find all instances of funny or funnier.\n",
    "txt= \"This line is funny. \\nThis line is more funny.\\nThis line is funnier.\\nThis line has no fun but carrier.\"\n",
    "x= re.finditer(\"funn(y|ier)\",txt)#either y or ier with funn before it\n",
    "for i,m in enumerate(x):\n",
    "    print(i)\n",
    "    printDetails(m)"
   ]
  },
  {
   "cell_type": "code",
   "execution_count": 99,
   "metadata": {},
   "outputs": [
    {
     "name": "stdout",
     "output_type": "stream",
     "text": [
      "0\n",
      "This line has \u001b[91mCol13\u001b[39m. \n",
      "This line has Col13 and Col14.\n",
      "Only Col14.\n",
      "Col13 Col14\n",
      "1\n",
      "This line has Col13. \n",
      "This line has \u001b[91mCol13\u001b[39m and Col14.\n",
      "Only Col14.\n",
      "Col13 Col14\n",
      "2\n",
      "This line has Col13. \n",
      "This line has Col13 and \u001b[91mCol14\u001b[39m.\n",
      "Only Col14.\n",
      "Col13 Col14\n",
      "3\n",
      "This line has Col13. \n",
      "This line has Col13 and Col14.\n",
      "Only \u001b[91mCol14\u001b[39m.\n",
      "Col13 Col14\n",
      "4\n",
      "This line has Col13. \n",
      "This line has Col13 and Col14.\n",
      "Only Col14.\n",
      "\u001b[91mCol13\u001b[39m Col14\n",
      "5\n",
      "This line has Col13. \n",
      "This line has Col13 and Col14.\n",
      "Only Col14.\n",
      "Col13 \u001b[91mCol14\u001b[39m\n"
     ]
    }
   ],
   "source": [
    "#Find all instances of Col<int> repeated any number of times.\n",
    "txt= \"This line has Col13. \\nThis line has Col13 and Col14.\\nOnly Col14.\\nCol13 Col14\"\n",
    "x= re.finditer(\"Col[0-9][0-9]*\",txt)\n",
    "for i,m in enumerate(x):\n",
    "    print(i)\n",
    "    printDetails(m)"
   ]
  },
  {
   "cell_type": "code",
   "execution_count": 100,
   "metadata": {},
   "outputs": [
    {
     "name": "stdout",
     "output_type": "stream",
     "text": [
      "0\n",
      "\u001b[91m\u001b[39mThis line has Col13. \n",
      "This line has Col13 and Col14.\n",
      "Only Col14.\n",
      "Col13 Col14\n",
      "1\n",
      "T\u001b[91m\u001b[39mhis line has Col13. \n",
      "This line has Col13 and Col14.\n",
      "Only Col14.\n",
      "Col13 Col14\n",
      "2\n",
      "Th\u001b[91m\u001b[39mis line has Col13. \n",
      "This line has Col13 and Col14.\n",
      "Only Col14.\n",
      "Col13 Col14\n",
      "3\n",
      "Thi\u001b[91m\u001b[39ms line has Col13. \n",
      "This line has Col13 and Col14.\n",
      "Only Col14.\n",
      "Col13 Col14\n",
      "4\n",
      "This\u001b[91m\u001b[39m line has Col13. \n",
      "This line has Col13 and Col14.\n",
      "Only Col14.\n",
      "Col13 Col14\n",
      "5\n",
      "This \u001b[91m\u001b[39mline has Col13. \n",
      "This line has Col13 and Col14.\n",
      "Only Col14.\n",
      "Col13 Col14\n",
      "6\n",
      "This l\u001b[91m\u001b[39mine has Col13. \n",
      "This line has Col13 and Col14.\n",
      "Only Col14.\n",
      "Col13 Col14\n",
      "7\n",
      "This li\u001b[91m\u001b[39mne has Col13. \n",
      "This line has Col13 and Col14.\n",
      "Only Col14.\n",
      "Col13 Col14\n",
      "8\n",
      "This lin\u001b[91m\u001b[39me has Col13. \n",
      "This line has Col13 and Col14.\n",
      "Only Col14.\n",
      "Col13 Col14\n",
      "9\n",
      "This line\u001b[91m\u001b[39m has Col13. \n",
      "This line has Col13 and Col14.\n",
      "Only Col14.\n",
      "Col13 Col14\n",
      "10\n",
      "This line \u001b[91m\u001b[39mhas Col13. \n",
      "This line has Col13 and Col14.\n",
      "Only Col14.\n",
      "Col13 Col14\n",
      "11\n",
      "This line h\u001b[91m\u001b[39mas Col13. \n",
      "This line has Col13 and Col14.\n",
      "Only Col14.\n",
      "Col13 Col14\n",
      "12\n",
      "This line ha\u001b[91m\u001b[39ms Col13. \n",
      "This line has Col13 and Col14.\n",
      "Only Col14.\n",
      "Col13 Col14\n",
      "13\n",
      "This line has\u001b[91m\u001b[39m Col13. \n",
      "This line has Col13 and Col14.\n",
      "Only Col14.\n",
      "Col13 Col14\n",
      "14\n",
      "This line has \u001b[91mCol13\u001b[39m. \n",
      "This line has Col13 and Col14.\n",
      "Only Col14.\n",
      "Col13 Col14\n",
      "15\n",
      "This line has Col13\u001b[91m\u001b[39m. \n",
      "This line has Col13 and Col14.\n",
      "Only Col14.\n",
      "Col13 Col14\n",
      "16\n",
      "This line has Col13.\u001b[91m\u001b[39m \n",
      "This line has Col13 and Col14.\n",
      "Only Col14.\n",
      "Col13 Col14\n",
      "17\n",
      "This line has Col13. \u001b[91m\u001b[39m\n",
      "This line has Col13 and Col14.\n",
      "Only Col14.\n",
      "Col13 Col14\n",
      "18\n",
      "This line has Col13. \n",
      "\u001b[91m\u001b[39mThis line has Col13 and Col14.\n",
      "Only Col14.\n",
      "Col13 Col14\n",
      "19\n",
      "This line has Col13. \n",
      "T\u001b[91m\u001b[39mhis line has Col13 and Col14.\n",
      "Only Col14.\n",
      "Col13 Col14\n",
      "20\n",
      "This line has Col13. \n",
      "Th\u001b[91m\u001b[39mis line has Col13 and Col14.\n",
      "Only Col14.\n",
      "Col13 Col14\n",
      "21\n",
      "This line has Col13. \n",
      "Thi\u001b[91m\u001b[39ms line has Col13 and Col14.\n",
      "Only Col14.\n",
      "Col13 Col14\n",
      "22\n",
      "This line has Col13. \n",
      "This\u001b[91m\u001b[39m line has Col13 and Col14.\n",
      "Only Col14.\n",
      "Col13 Col14\n",
      "23\n",
      "This line has Col13. \n",
      "This \u001b[91m\u001b[39mline has Col13 and Col14.\n",
      "Only Col14.\n",
      "Col13 Col14\n",
      "24\n",
      "This line has Col13. \n",
      "This l\u001b[91m\u001b[39mine has Col13 and Col14.\n",
      "Only Col14.\n",
      "Col13 Col14\n",
      "25\n",
      "This line has Col13. \n",
      "This li\u001b[91m\u001b[39mne has Col13 and Col14.\n",
      "Only Col14.\n",
      "Col13 Col14\n",
      "26\n",
      "This line has Col13. \n",
      "This lin\u001b[91m\u001b[39me has Col13 and Col14.\n",
      "Only Col14.\n",
      "Col13 Col14\n",
      "27\n",
      "This line has Col13. \n",
      "This line\u001b[91m\u001b[39m has Col13 and Col14.\n",
      "Only Col14.\n",
      "Col13 Col14\n",
      "28\n",
      "This line has Col13. \n",
      "This line \u001b[91m\u001b[39mhas Col13 and Col14.\n",
      "Only Col14.\n",
      "Col13 Col14\n",
      "29\n",
      "This line has Col13. \n",
      "This line h\u001b[91m\u001b[39mas Col13 and Col14.\n",
      "Only Col14.\n",
      "Col13 Col14\n",
      "30\n",
      "This line has Col13. \n",
      "This line ha\u001b[91m\u001b[39ms Col13 and Col14.\n",
      "Only Col14.\n",
      "Col13 Col14\n",
      "31\n",
      "This line has Col13. \n",
      "This line has\u001b[91m\u001b[39m Col13 and Col14.\n",
      "Only Col14.\n",
      "Col13 Col14\n",
      "32\n",
      "This line has Col13. \n",
      "This line has \u001b[91mCol13\u001b[39m and Col14.\n",
      "Only Col14.\n",
      "Col13 Col14\n",
      "33\n",
      "This line has Col13. \n",
      "This line has Col13\u001b[91m\u001b[39m and Col14.\n",
      "Only Col14.\n",
      "Col13 Col14\n",
      "34\n",
      "This line has Col13. \n",
      "This line has Col13 \u001b[91m\u001b[39mand Col14.\n",
      "Only Col14.\n",
      "Col13 Col14\n",
      "35\n",
      "This line has Col13. \n",
      "This line has Col13 a\u001b[91m\u001b[39mnd Col14.\n",
      "Only Col14.\n",
      "Col13 Col14\n",
      "36\n",
      "This line has Col13. \n",
      "This line has Col13 an\u001b[91m\u001b[39md Col14.\n",
      "Only Col14.\n",
      "Col13 Col14\n",
      "37\n",
      "This line has Col13. \n",
      "This line has Col13 and\u001b[91m\u001b[39m Col14.\n",
      "Only Col14.\n",
      "Col13 Col14\n",
      "38\n",
      "This line has Col13. \n",
      "This line has Col13 and \u001b[91mCol14\u001b[39m.\n",
      "Only Col14.\n",
      "Col13 Col14\n",
      "39\n",
      "This line has Col13. \n",
      "This line has Col13 and Col14\u001b[91m\u001b[39m.\n",
      "Only Col14.\n",
      "Col13 Col14\n",
      "40\n",
      "This line has Col13. \n",
      "This line has Col13 and Col14.\u001b[91m\u001b[39m\n",
      "Only Col14.\n",
      "Col13 Col14\n",
      "41\n",
      "This line has Col13. \n",
      "This line has Col13 and Col14.\n",
      "\u001b[91m\u001b[39mOnly Col14.\n",
      "Col13 Col14\n",
      "42\n",
      "This line has Col13. \n",
      "This line has Col13 and Col14.\n",
      "O\u001b[91m\u001b[39mnly Col14.\n",
      "Col13 Col14\n",
      "43\n",
      "This line has Col13. \n",
      "This line has Col13 and Col14.\n",
      "On\u001b[91m\u001b[39mly Col14.\n",
      "Col13 Col14\n",
      "44\n",
      "This line has Col13. \n",
      "This line has Col13 and Col14.\n",
      "Onl\u001b[91m\u001b[39my Col14.\n",
      "Col13 Col14\n",
      "45\n",
      "This line has Col13. \n",
      "This line has Col13 and Col14.\n",
      "Only\u001b[91m\u001b[39m Col14.\n",
      "Col13 Col14\n",
      "46\n",
      "This line has Col13. \n",
      "This line has Col13 and Col14.\n",
      "Only \u001b[91mCol14\u001b[39m.\n",
      "Col13 Col14\n",
      "47\n",
      "This line has Col13. \n",
      "This line has Col13 and Col14.\n",
      "Only Col14\u001b[91m\u001b[39m.\n",
      "Col13 Col14\n",
      "48\n",
      "This line has Col13. \n",
      "This line has Col13 and Col14.\n",
      "Only Col14.\u001b[91m\u001b[39m\n",
      "Col13 Col14\n",
      "49\n",
      "This line has Col13. \n",
      "This line has Col13 and Col14.\n",
      "Only Col14.\n",
      "\u001b[91mCol13\u001b[39m Col14\n",
      "50\n",
      "This line has Col13. \n",
      "This line has Col13 and Col14.\n",
      "Only Col14.\n",
      "Col13\u001b[91m\u001b[39m Col14\n",
      "51\n",
      "This line has Col13. \n",
      "This line has Col13 and Col14.\n",
      "Only Col14.\n",
      "Col13 \u001b[91mCol14\u001b[39m\n",
      "52\n",
      "This line has Col13. \n",
      "This line has Col13 and Col14.\n",
      "Only Col14.\n",
      "Col13 Col14\u001b[91m\u001b[39m\n"
     ]
    }
   ],
   "source": [
    "#Find all instances of Col<int> repeated any number of times.\n",
    "txt= \"This line has Col13. \\nThis line has Col13 and Col14.\\nOnly Col14.\\nCol13 Col14\"\n",
    "x= re.finditer(\"(Col[0-9][0-9])*\",txt)\n",
    "for i,m in enumerate(x):\n",
    "    print(i)\n",
    "    printDetails(m)"
   ]
  },
  {
   "cell_type": "code",
   "execution_count": 101,
   "metadata": {},
   "outputs": [
    {
     "name": "stdout",
     "output_type": "stream",
     "text": [
      "0\n",
      "This line has \u001b[91mCol13\u001b[39m. \n",
      "This line has Col13 and Col14.\n",
      "Only Col14.\n",
      "Col13 Col14\n",
      "1\n",
      "This line has Col13. \n",
      "This line has \u001b[91mCol13 \u001b[39mand Col14.\n",
      "Only Col14.\n",
      "Col13 Col14\n",
      "2\n",
      "This line has Col13. \n",
      "This line has Col13 and \u001b[91mCol14\u001b[39m.\n",
      "Only Col14.\n",
      "Col13 Col14\n",
      "3\n",
      "This line has Col13. \n",
      "This line has Col13 and Col14.\n",
      "Only \u001b[91mCol14\u001b[39m.\n",
      "Col13 Col14\n",
      "4\n",
      "This line has Col13. \n",
      "This line has Col13 and Col14.\n",
      "Only Col14.\n",
      "\u001b[91mCol13 Col14\u001b[39m\n"
     ]
    }
   ],
   "source": [
    "#Find all instances of Col<int> repeated any number of times.\n",
    "txt= \"This line has Col13. \\nThis line has Col13 and Col14.\\nOnly Col14.\\nCol13 Col14\"\n",
    "x= re.finditer(\"(Col[0-9]+ *)+\",txt)\n",
    "for i,m in enumerate(x):\n",
    "    print(i)\n",
    "    printDetails(m)"
   ]
  },
  {
   "cell_type": "code",
   "execution_count": 102,
   "metadata": {},
   "outputs": [
    {
     "name": "stdout",
     "output_type": "stream",
     "text": [
      "0\n",
      "This line has Col13. \n",
      "This line has Col13 and Col14.\n",
      "Only Col14.\n",
      "\u001b[91mCol13 Col14\u001b[39m\n"
     ]
    }
   ],
   "source": [
    "#Find all instances of Col<int> repeated any number of times.\n",
    "txt= \"This line has Col13. \\nThis line has Col13 and Col14.\\nOnly Col14.\\nCol13 Col14\"\n",
    "x= re.finditer(\"^(Col[0-9]+ *)+\",txt,flags=re.MULTILINE)\n",
    "for i,m in enumerate(x):\n",
    "    print(i)\n",
    "    printDetails(m)"
   ]
  },
  {
   "cell_type": "code",
   "execution_count": 103,
   "metadata": {},
   "outputs": [
    {
     "name": "stdout",
     "output_type": "stream",
     "text": [
      "0\n",
      "This line has Col13. \n",
      "This line has Col13 and Col14.\n",
      "Only Col14.\n",
      "\u001b[91mCol13 Col14  Col15       Col16\u001b[39m\n"
     ]
    }
   ],
   "source": [
    "#Find all instances of Col<int> repeated any number of times.\n",
    "txt= \"This line has Col13. \\nThis line has Col13 and Col14.\\nOnly Col14.\\nCol13 Col14  Col15       Col16\"\n",
    "x= re.finditer(\"^(Col[0-9]+ *)+\",txt,flags=re.MULTILINE)\n",
    "for i,m in enumerate(x):\n",
    "    print(i)\n",
    "    printDetails(m)"
   ]
  },
  {
   "cell_type": "code",
   "execution_count": 104,
   "metadata": {},
   "outputs": [
    {
     "name": "stdout",
     "output_type": "stream",
     "text": [
      "0\n",
      "This line has \u001b[91mCol13\u001b[39m. \n",
      "This line has Col13 and Col14.\n",
      "Only Col14.\n",
      "Col13 Col14\n",
      "1\n",
      "This line has Col13. \n",
      "This line has \u001b[91mCol13\u001b[39m and Col14.\n",
      "Only Col14.\n",
      "Col13 Col14\n",
      "2\n",
      "This line has Col13. \n",
      "This line has Col13 and \u001b[91mCol14\u001b[39m.\n",
      "Only Col14.\n",
      "Col13 Col14\n",
      "3\n",
      "This line has Col13. \n",
      "This line has Col13 and Col14.\n",
      "Only \u001b[91mCol14\u001b[39m.\n",
      "Col13 Col14\n",
      "4\n",
      "This line has Col13. \n",
      "This line has Col13 and Col14.\n",
      "Only Col14.\n",
      "\u001b[91mCol13\u001b[39m Col14\n",
      "5\n",
      "This line has Col13. \n",
      "This line has Col13 and Col14.\n",
      "Only Col14.\n",
      "Col13 \u001b[91mCol14\u001b[39m\n"
     ]
    }
   ],
   "source": [
    "#Find all instances of Col<int><int>.\n",
    "txt= \"This line has Col13. \\nThis line has Col13 and Col14.\\nOnly Col14.\\nCol13 Col14\"\n",
    "x= re.finditer(\"Col[0-9]{2}\",txt)\n",
    "for i,m in enumerate(x):\n",
    "    print(i)\n",
    "    printDetails(m)"
   ]
  },
  {
   "cell_type": "code",
   "execution_count": 107,
   "metadata": {},
   "outputs": [
    {
     "name": "stdout",
     "output_type": "stream",
     "text": [
      "0\n",
      "This line has Col1. \n",
      "This line has Col3 and \u001b[91mCol14\u001b[39m.\n",
      "Only Col14.\n",
      "Col13 Col14\n",
      "1\n",
      "This line has Col1. \n",
      "This line has Col3 and Col14.\n",
      "Only \u001b[91mCol14\u001b[39m.\n",
      "Col13 Col14\n",
      "2\n",
      "This line has Col1. \n",
      "This line has Col3 and Col14.\n",
      "Only Col14.\n",
      "\u001b[91mCol13\u001b[39m Col14\n",
      "3\n",
      "This line has Col1. \n",
      "This line has Col3 and Col14.\n",
      "Only Col14.\n",
      "Col13 \u001b[91mCol14\u001b[39m\n"
     ]
    }
   ],
   "source": [
    "#Find all instances of Col<int><int>.\n",
    "txt= \"This line has Col1. \\nThis line has Col3 and Col14.\\nOnly Col14.\\nCol13 Col14\"\n",
    "x= re.finditer(\"Col[0-9]{2}\",txt)#two int after col\n",
    "for i,m in enumerate(x):\n",
    "    print(i)\n",
    "    printDetails(m)"
   ]
  },
  {
   "cell_type": "code",
   "execution_count": 108,
   "metadata": {},
   "outputs": [
    {
     "name": "stdout",
     "output_type": "stream",
     "text": [
      "0\n",
      "This line has \u001b[91mCol12\u001b[39m3. \n",
      "This line has Col3 and Col14.\n",
      "Only Col14.\n",
      "Col13 Col14\n",
      "1\n",
      "This line has Col123. \n",
      "This line has \u001b[91mCol3\u001b[39m and Col14.\n",
      "Only Col14.\n",
      "Col13 Col14\n",
      "2\n",
      "This line has Col123. \n",
      "This line has Col3 and \u001b[91mCol14\u001b[39m.\n",
      "Only Col14.\n",
      "Col13 Col14\n",
      "3\n",
      "This line has Col123. \n",
      "This line has Col3 and Col14.\n",
      "Only \u001b[91mCol14\u001b[39m.\n",
      "Col13 Col14\n",
      "4\n",
      "This line has Col123. \n",
      "This line has Col3 and Col14.\n",
      "Only Col14.\n",
      "\u001b[91mCol13\u001b[39m Col14\n",
      "5\n",
      "This line has Col123. \n",
      "This line has Col3 and Col14.\n",
      "Only Col14.\n",
      "Col13 \u001b[91mCol14\u001b[39m\n"
     ]
    }
   ],
   "source": [
    "#Find all instances of Col<int><int>.\n",
    "txt= \"This line has Col123. \\nThis line has Col3 and Col14.\\nOnly Col14.\\nCol13 Col14\"\n",
    "x= re.finditer(\"Col[0-9]{1,2}\",txt)#either 1 or 2 no after the col\n",
    "for i,m in enumerate(x):\n",
    "    print(i)\n",
    "    printDetails(m)"
   ]
  },
  {
   "cell_type": "code",
   "execution_count": 109,
   "metadata": {},
   "outputs": [
    {
     "name": "stdout",
     "output_type": "stream",
     "text": [
      "0\n",
      "This line has \u001b[91mCol123\u001b[39m. \n",
      "This line has Col3 and Col14.\n",
      "Only Col14.\n",
      "Col13 Col14\n",
      "1\n",
      "This line has Col123. \n",
      "This line has Col3 and \u001b[91mCol14\u001b[39m.\n",
      "Only Col14.\n",
      "Col13 Col14\n",
      "2\n",
      "This line has Col123. \n",
      "This line has Col3 and Col14.\n",
      "Only \u001b[91mCol14\u001b[39m.\n",
      "Col13 Col14\n",
      "3\n",
      "This line has Col123. \n",
      "This line has Col3 and Col14.\n",
      "Only Col14.\n",
      "\u001b[91mCol13\u001b[39m Col14\n",
      "4\n",
      "This line has Col123. \n",
      "This line has Col3 and Col14.\n",
      "Only Col14.\n",
      "Col13 \u001b[91mCol14\u001b[39m\n"
     ]
    }
   ],
   "source": [
    "#Find all instances of Col<int><int>.\n",
    "txt= \"This line has Col123. \\nThis line has Col3 and Col14.\\nOnly Col14.\\nCol13 Col14\"\n",
    "x= re.finditer(\"Col[0-9]{2,}\",txt)#either 2 or many\n",
    "for i,m in enumerate(x):\n",
    "    print(i)\n",
    "    printDetails(m)"
   ]
  },
  {
   "cell_type": "code",
   "execution_count": 112,
   "metadata": {},
   "outputs": [
    {
     "name": "stdout",
     "output_type": "stream",
     "text": [
      "<re.Match object; span=(14, 20), match='Col1{}'>\n"
     ]
    },
    {
     "ename": "TypeError",
     "evalue": "'re.Match' object is not iterable",
     "output_type": "error",
     "traceback": [
      "\u001b[1;31m---------------------------------------------------------------------------\u001b[0m",
      "\u001b[1;31mTypeError\u001b[0m                                 Traceback (most recent call last)",
      "Cell \u001b[1;32mIn[112], line 5\u001b[0m\n\u001b[0;32m      3\u001b[0m x\u001b[39m=\u001b[39m re\u001b[39m.\u001b[39msearch(\u001b[39m\"\u001b[39m\u001b[39mCol[0-9]\u001b[39m\u001b[39m{}\u001b[39;00m\u001b[39m\"\u001b[39m,txt)\n\u001b[0;32m      4\u001b[0m \u001b[39mprint\u001b[39m(x)\n\u001b[1;32m----> 5\u001b[0m \u001b[39mfor\u001b[39;00m i,m \u001b[39min\u001b[39;00m \u001b[39menumerate\u001b[39;49m(x):\n\u001b[0;32m      6\u001b[0m     \u001b[39mprint\u001b[39m(i)\n\u001b[0;32m      7\u001b[0m     printDetails(m)\n",
      "\u001b[1;31mTypeError\u001b[0m: 're.Match' object is not iterable"
     ]
    }
   ],
   "source": [
    "#Find all instances of Col<int><int>.\n",
    "txt= \"This line has Col1{}. \\nThis line has Col3 and Col14.\\nOnly Col14.\\nCol13 Col14 Col\"\n",
    "x= re.search(\"Col[0-9]{}\",txt)\n",
    "print(x)\n",
    "for i,m in enumerate(x):\n",
    "    print(i)\n",
    "    printDetails(m)"
   ]
  },
  {
   "cell_type": "code",
   "execution_count": 113,
   "metadata": {},
   "outputs": [
    {
     "ename": "error",
     "evalue": "nothing to repeat at position 0",
     "output_type": "error",
     "traceback": [
      "\u001b[1;31m---------------------------------------------------------------------------\u001b[0m",
      "\u001b[1;31merror\u001b[0m                                     Traceback (most recent call last)",
      "Cell \u001b[1;32mIn[113], line 3\u001b[0m\n\u001b[0;32m      1\u001b[0m \u001b[39m#Find all instances of *?.\u001b[39;00m\n\u001b[0;32m      2\u001b[0m txt\u001b[39m=\u001b[39m \u001b[39m\"\u001b[39m\u001b[39mThis line has *?. \u001b[39m\u001b[39m\\n\u001b[39;00m\u001b[39mThis line also has *?.\u001b[39m\u001b[39m\"\u001b[39m\n\u001b[1;32m----> 3\u001b[0m x\u001b[39m=\u001b[39m re\u001b[39m.\u001b[39;49mfinditer(\u001b[39m\"\u001b[39;49m\u001b[39m*?\u001b[39;49m\u001b[39m\"\u001b[39;49m,txt)\n\u001b[0;32m      4\u001b[0m \u001b[39mfor\u001b[39;00m i,m \u001b[39min\u001b[39;00m \u001b[39menumerate\u001b[39m(x):\n\u001b[0;32m      5\u001b[0m     \u001b[39mprint\u001b[39m(i)\n",
      "File \u001b[1;32mc:\\Users\\Msc 2\\AppData\\Local\\Programs\\Python\\Python311\\Lib\\re\\__init__.py:223\u001b[0m, in \u001b[0;36mfinditer\u001b[1;34m(pattern, string, flags)\u001b[0m\n\u001b[0;32m    218\u001b[0m \u001b[39mdef\u001b[39;00m \u001b[39mfinditer\u001b[39m(pattern, string, flags\u001b[39m=\u001b[39m\u001b[39m0\u001b[39m):\n\u001b[0;32m    219\u001b[0m \u001b[39m    \u001b[39m\u001b[39m\"\"\"Return an iterator over all non-overlapping matches in the\u001b[39;00m\n\u001b[0;32m    220\u001b[0m \u001b[39m    string.  For each match, the iterator returns a Match object.\u001b[39;00m\n\u001b[0;32m    221\u001b[0m \n\u001b[0;32m    222\u001b[0m \u001b[39m    Empty matches are included in the result.\"\"\"\u001b[39;00m\n\u001b[1;32m--> 223\u001b[0m     \u001b[39mreturn\u001b[39;00m _compile(pattern, flags)\u001b[39m.\u001b[39mfinditer(string)\n",
      "File \u001b[1;32mc:\\Users\\Msc 2\\AppData\\Local\\Programs\\Python\\Python311\\Lib\\re\\__init__.py:294\u001b[0m, in \u001b[0;36m_compile\u001b[1;34m(pattern, flags)\u001b[0m\n\u001b[0;32m    288\u001b[0m     \u001b[39mimport\u001b[39;00m \u001b[39mwarnings\u001b[39;00m\n\u001b[0;32m    289\u001b[0m     warnings\u001b[39m.\u001b[39mwarn(\u001b[39m\"\u001b[39m\u001b[39mThe re.TEMPLATE/re.T flag is deprecated \u001b[39m\u001b[39m\"\u001b[39m\n\u001b[0;32m    290\u001b[0m               \u001b[39m\"\u001b[39m\u001b[39mas it is an undocumented flag \u001b[39m\u001b[39m\"\u001b[39m\n\u001b[0;32m    291\u001b[0m               \u001b[39m\"\u001b[39m\u001b[39mwithout an obvious purpose. \u001b[39m\u001b[39m\"\u001b[39m\n\u001b[0;32m    292\u001b[0m               \u001b[39m\"\u001b[39m\u001b[39mDon\u001b[39m\u001b[39m'\u001b[39m\u001b[39mt use it.\u001b[39m\u001b[39m\"\u001b[39m,\n\u001b[0;32m    293\u001b[0m               \u001b[39mDeprecationWarning\u001b[39;00m)\n\u001b[1;32m--> 294\u001b[0m p \u001b[39m=\u001b[39m _compiler\u001b[39m.\u001b[39;49mcompile(pattern, flags)\n\u001b[0;32m    295\u001b[0m \u001b[39mif\u001b[39;00m \u001b[39mnot\u001b[39;00m (flags \u001b[39m&\u001b[39m DEBUG):\n\u001b[0;32m    296\u001b[0m     \u001b[39mif\u001b[39;00m \u001b[39mlen\u001b[39m(_cache) \u001b[39m>\u001b[39m\u001b[39m=\u001b[39m _MAXCACHE:\n\u001b[0;32m    297\u001b[0m         \u001b[39m# Drop the oldest item\u001b[39;00m\n",
      "File \u001b[1;32mc:\\Users\\Msc 2\\AppData\\Local\\Programs\\Python\\Python311\\Lib\\re\\_compiler.py:743\u001b[0m, in \u001b[0;36mcompile\u001b[1;34m(p, flags)\u001b[0m\n\u001b[0;32m    741\u001b[0m \u001b[39mif\u001b[39;00m isstring(p):\n\u001b[0;32m    742\u001b[0m     pattern \u001b[39m=\u001b[39m p\n\u001b[1;32m--> 743\u001b[0m     p \u001b[39m=\u001b[39m _parser\u001b[39m.\u001b[39;49mparse(p, flags)\n\u001b[0;32m    744\u001b[0m \u001b[39melse\u001b[39;00m:\n\u001b[0;32m    745\u001b[0m     pattern \u001b[39m=\u001b[39m \u001b[39mNone\u001b[39;00m\n",
      "File \u001b[1;32mc:\\Users\\Msc 2\\AppData\\Local\\Programs\\Python\\Python311\\Lib\\re\\_parser.py:980\u001b[0m, in \u001b[0;36mparse\u001b[1;34m(str, flags, state)\u001b[0m\n\u001b[0;32m    977\u001b[0m state\u001b[39m.\u001b[39mflags \u001b[39m=\u001b[39m flags\n\u001b[0;32m    978\u001b[0m state\u001b[39m.\u001b[39mstr \u001b[39m=\u001b[39m \u001b[39mstr\u001b[39m\n\u001b[1;32m--> 980\u001b[0m p \u001b[39m=\u001b[39m _parse_sub(source, state, flags \u001b[39m&\u001b[39;49m SRE_FLAG_VERBOSE, \u001b[39m0\u001b[39;49m)\n\u001b[0;32m    981\u001b[0m p\u001b[39m.\u001b[39mstate\u001b[39m.\u001b[39mflags \u001b[39m=\u001b[39m fix_flags(\u001b[39mstr\u001b[39m, p\u001b[39m.\u001b[39mstate\u001b[39m.\u001b[39mflags)\n\u001b[0;32m    983\u001b[0m \u001b[39mif\u001b[39;00m source\u001b[39m.\u001b[39mnext \u001b[39mis\u001b[39;00m \u001b[39mnot\u001b[39;00m \u001b[39mNone\u001b[39;00m:\n",
      "File \u001b[1;32mc:\\Users\\Msc 2\\AppData\\Local\\Programs\\Python\\Python311\\Lib\\re\\_parser.py:455\u001b[0m, in \u001b[0;36m_parse_sub\u001b[1;34m(source, state, verbose, nested)\u001b[0m\n\u001b[0;32m    453\u001b[0m start \u001b[39m=\u001b[39m source\u001b[39m.\u001b[39mtell()\n\u001b[0;32m    454\u001b[0m \u001b[39mwhile\u001b[39;00m \u001b[39mTrue\u001b[39;00m:\n\u001b[1;32m--> 455\u001b[0m     itemsappend(_parse(source, state, verbose, nested \u001b[39m+\u001b[39;49m \u001b[39m1\u001b[39;49m,\n\u001b[0;32m    456\u001b[0m                        \u001b[39mnot\u001b[39;49;00m nested \u001b[39mand\u001b[39;49;00m \u001b[39mnot\u001b[39;49;00m items))\n\u001b[0;32m    457\u001b[0m     \u001b[39mif\u001b[39;00m \u001b[39mnot\u001b[39;00m sourcematch(\u001b[39m\"\u001b[39m\u001b[39m|\u001b[39m\u001b[39m\"\u001b[39m):\n\u001b[0;32m    458\u001b[0m         \u001b[39mbreak\u001b[39;00m\n",
      "File \u001b[1;32mc:\\Users\\Msc 2\\AppData\\Local\\Programs\\Python\\Python311\\Lib\\re\\_parser.py:682\u001b[0m, in \u001b[0;36m_parse\u001b[1;34m(source, state, verbose, nested, first)\u001b[0m\n\u001b[0;32m    680\u001b[0m     item \u001b[39m=\u001b[39m \u001b[39mNone\u001b[39;00m\n\u001b[0;32m    681\u001b[0m \u001b[39mif\u001b[39;00m \u001b[39mnot\u001b[39;00m item \u001b[39mor\u001b[39;00m item[\u001b[39m0\u001b[39m][\u001b[39m0\u001b[39m] \u001b[39mis\u001b[39;00m AT:\n\u001b[1;32m--> 682\u001b[0m     \u001b[39mraise\u001b[39;00m source\u001b[39m.\u001b[39merror(\u001b[39m\"\u001b[39m\u001b[39mnothing to repeat\u001b[39m\u001b[39m\"\u001b[39m,\n\u001b[0;32m    683\u001b[0m                        source\u001b[39m.\u001b[39mtell() \u001b[39m-\u001b[39m here \u001b[39m+\u001b[39m \u001b[39mlen\u001b[39m(this))\n\u001b[0;32m    684\u001b[0m \u001b[39mif\u001b[39;00m item[\u001b[39m0\u001b[39m][\u001b[39m0\u001b[39m] \u001b[39min\u001b[39;00m _REPEATCODES:\n\u001b[0;32m    685\u001b[0m     \u001b[39mraise\u001b[39;00m source\u001b[39m.\u001b[39merror(\u001b[39m\"\u001b[39m\u001b[39mmultiple repeat\u001b[39m\u001b[39m\"\u001b[39m,\n\u001b[0;32m    686\u001b[0m                        source\u001b[39m.\u001b[39mtell() \u001b[39m-\u001b[39m here \u001b[39m+\u001b[39m \u001b[39mlen\u001b[39m(this))\n",
      "\u001b[1;31merror\u001b[0m: nothing to repeat at position 0"
     ]
    }
   ],
   "source": [
    "#Find all instances of *?.\n",
    "txt= \"This line has *?. \\nThis line also has *?.\"\n",
    "x= re.finditer(\"*?\",txt)\n",
    "for i,m in enumerate(x):\n",
    "    print(i)\n",
    "    printDetails(m)"
   ]
  },
  {
   "cell_type": "code",
   "execution_count": 114,
   "metadata": {},
   "outputs": [
    {
     "name": "stdout",
     "output_type": "stream",
     "text": [
      "0\n",
      "This line has \u001b[91m*?\u001b[39m. \n",
      "This line also has *?.\n",
      "1\n",
      "This line has *?. \n",
      "This line also has \u001b[91m*?\u001b[39m.\n"
     ]
    }
   ],
   "source": [
    "#Find all instances of *?.\n",
    "txt= \"This line has *?. \\nThis line also has *?.\"\n",
    "x= re.finditer(\"\\*\\?\",txt)#actual symobol \"*\" followed by \"?\"\n",
    "for i,m in enumerate(x):\n",
    "    print(i)\n",
    "    printDetails(m)"
   ]
  },
  {
   "cell_type": "markdown",
   "metadata": {},
   "source": [
    "Precedence Hierarchy: <br>1. Parenthesis <br>2. Counters <br> 3. Sequences <br>4. Disjunction<br>\n",
    "<i>the*</i> matches zero or more occurrences of e and not the, as in <i>theeee</i><br>\n",
    "<i>(the)*</i> matches zero or more occurrences of the, as in <i>the the the</i><br>\n",
    "<i>the|any</i> matches <i>the</i> or <i>any</i> and not <i>theny</i> or <i>thany</i>"
   ]
  },
  {
   "cell_type": "code",
   "execution_count": 115,
   "metadata": {},
   "outputs": [
    {
     "name": "stdout",
     "output_type": "stream",
     "text": [
      "0\n",
      "The Cheetah is faster than \u001b[91mthe\u001b[39m other animals. \n",
      "The article in English is the.\n",
      "1\n",
      "The Cheetah is faster than the o\u001b[91mthe\u001b[39mr animals. \n",
      "The article in English is the.\n",
      "2\n",
      "The Cheetah is faster than the other animals. \n",
      "The article in English is \u001b[91mthe\u001b[39m.\n"
     ]
    }
   ],
   "source": [
    "#Find all instances of the English article \"the\".\n",
    "txt= \"The Cheetah is faster than the other animals. \\nThe article in English is the.\"\n",
    "x= re.finditer(\"the\",txt)\n",
    "for i,m in enumerate(x):\n",
    "    print(i)\n",
    "    printDetails(m)"
   ]
  },
  {
   "cell_type": "code",
   "execution_count": 116,
   "metadata": {},
   "outputs": [
    {
     "name": "stdout",
     "output_type": "stream",
     "text": [
      "0\n",
      "\u001b[91mThe\u001b[39m Cheetah is faster than the other animals. \n",
      "The article in English is the.\n",
      "1\n",
      "The Cheetah is faster than \u001b[91mthe\u001b[39m other animals. \n",
      "The article in English is the.\n",
      "2\n",
      "The Cheetah is faster than the o\u001b[91mthe\u001b[39mr animals. \n",
      "The article in English is the.\n",
      "3\n",
      "The Cheetah is faster than the other animals. \n",
      "\u001b[91mThe\u001b[39m article in English is the.\n",
      "4\n",
      "The Cheetah is faster than the other animals. \n",
      "The article in English is \u001b[91mthe\u001b[39m.\n"
     ]
    }
   ],
   "source": [
    "#Find all instances of the English article \"the\".\n",
    "txt= \"The Cheetah is faster than the other animals. \\nThe article in English is the.\"\n",
    "x= re.finditer(\"[tT]he\",txt)\n",
    "for i,m in enumerate(x):\n",
    "    print(i)\n",
    "    printDetails(m)"
   ]
  },
  {
   "cell_type": "code",
   "execution_count": 119,
   "metadata": {},
   "outputs": [],
   "source": [
    "#Find all instances of the English article \"the\".\n",
    "txt= \"The Cheetah is faster than the other animals. \\nThe article in English is the.\"\n",
    "x= re.finditer(\"\\b[tT]he\\b\",txt)#it's searching for \"\\b[tT]he\"\n",
    "for i,m in enumerate(x):\n",
    "    print(i)\n",
    "    printDetails(m)"
   ]
  },
  {
   "cell_type": "code",
   "execution_count": 120,
   "metadata": {},
   "outputs": [
    {
     "name": "stdout",
     "output_type": "stream",
     "text": [
      "0\n",
      "\u001b[91mThe\u001b[39m Cheetah is faster than the other animals. \n",
      "The article in English is the.\n",
      "1\n",
      "The Cheetah is faster than \u001b[91mthe\u001b[39m other animals. \n",
      "The article in English is the.\n",
      "2\n",
      "The Cheetah is faster than the other animals. \n",
      "\u001b[91mThe\u001b[39m article in English is the.\n",
      "3\n",
      "The Cheetah is faster than the other animals. \n",
      "The article in English is \u001b[91mthe\u001b[39m.\n"
     ]
    }
   ],
   "source": [
    "#Find all instances of the English article \"the\".\n",
    "txt= \"The Cheetah is faster than the other animals. \\nThe article in English is the.\"\n",
    "x= re.finditer(\"\\\\b[tT]he\\\\b\",txt)\n",
    "for i,m in enumerate(x):\n",
    "    print(i)\n",
    "    printDetails(m)"
   ]
  },
  {
   "cell_type": "code",
   "execution_count": 121,
   "metadata": {},
   "outputs": [
    {
     "name": "stdout",
     "output_type": "stream",
     "text": [
      "0\n",
      "The Cheetah is faster than\u001b[91m the\u001b[39m other animals. \n",
      "The article in English is the. \n",
      " What is there?\n",
      "1\n",
      "The Cheetah is faster than the other animals. \u001b[91m\n",
      "The\u001b[39m article in English is the. \n",
      " What is there?\n",
      "2\n",
      "The Cheetah is faster than the other animals. \n",
      "The article in English is\u001b[91m the\u001b[39m. \n",
      " What is there?\n",
      "3\n",
      "The Cheetah is faster than the other animals. \n",
      "The article in English is the. \n",
      " What is\u001b[91m the\u001b[39mre?\n"
     ]
    }
   ],
   "source": [
    "#Find all instances of the English article \"the\" without \\b\n",
    "txt= \"The Cheetah is faster than the other animals. \\nThe article in English is the. \\n What is there?\"\n",
    "x= re.finditer(\"[^a-zA-Z][tT]he\",txt)\n",
    "for i,m in enumerate(x):\n",
    "    print(i)\n",
    "    printDetails(m)"
   ]
  },
  {
   "cell_type": "code",
   "execution_count": 123,
   "metadata": {},
   "outputs": [
    {
     "name": "stdout",
     "output_type": "stream",
     "text": [
      "0\n",
      "The Cheetah is faster than\u001b[91m the \u001b[39mother animals. \n",
      "The article in English is the. \n",
      " What is there?\n",
      "1\n",
      "The Cheetah is faster than the other animals. \u001b[91m\n",
      "The \u001b[39marticle in English is the. \n",
      " What is there?\n",
      "2\n",
      "The Cheetah is faster than the other animals. \n",
      "The article in English is\u001b[91m the.\u001b[39m \n",
      " What is there?\n"
     ]
    }
   ],
   "source": [
    "#Find all instances of the English article \"the\" without \\b\n",
    "txt= \"The Cheetah is faster than the other animals. \\nThe article in English is the. \\n What is there?\"\n",
    "x= re.finditer(\"[^a-zA-Z][tT]he[^a-zA-Z]\",txt) #this finds \"the.\" also\n",
    "for i,m in enumerate(x):\n",
    "    print(i)\n",
    "    printDetails(m)"
   ]
  },
  {
   "cell_type": "code",
   "execution_count": 124,
   "metadata": {},
   "outputs": [
    {
     "name": "stdout",
     "output_type": "stream",
     "text": [
      "0\n",
      "\u001b[91mThe \u001b[39mCheetah is faster than the other animals. \n",
      "The article in English is the. \n",
      " What is there?\n",
      "1\n",
      "The Cheetah is faster than\u001b[91m the \u001b[39mother animals. \n",
      "The article in English is the. \n",
      " What is there?\n",
      "2\n",
      "The Cheetah is faster than the other animals. \u001b[91m\n",
      "The \u001b[39marticle in English is the. \n",
      " What is there?\n",
      "3\n",
      "The Cheetah is faster than the other animals. \n",
      "The article in English is\u001b[91m the.\u001b[39m \n",
      " What is there?\n"
     ]
    }
   ],
   "source": [
    "#Find all instances of the English article \"the\" without \\b\n",
    "txt= \"The Cheetah is faster than the other animals. \\nThe article in English is the. \\n What is there?\"\n",
    "x= re.finditer(\"(^|[^a-zA-Z])[tT]he[^a-zA-Z]\",txt)\n",
    "for i,m in enumerate(x):\n",
    "    print(i)\n",
    "    printDetails(m)\n",
    "#Notice the . in red!"
   ]
  },
  {
   "cell_type": "code",
   "execution_count": 125,
   "metadata": {},
   "outputs": [
    {
     "name": "stdout",
     "output_type": "stream",
     "text": [
      "0\n",
      "\u001b[91mThe \u001b[39mCheetah is faster than$the$other animals. \n",
      "The article in English is$the$\n",
      " What is there?\n",
      "1\n",
      "The Cheetah is faster than\u001b[91m$the$\u001b[39mother animals. \n",
      "The article in English is$the$\n",
      " What is there?\n",
      "2\n",
      "The Cheetah is faster than$the$other animals. \u001b[91m\n",
      "The \u001b[39marticle in English is$the$\n",
      " What is there?\n",
      "3\n",
      "The Cheetah is faster than$the$other animals. \n",
      "The article in English is\u001b[91m$the$\u001b[39m\n",
      " What is there?\n"
     ]
    }
   ],
   "source": [
    "#Find all instances of the English article \"the\" without \\b\n",
    "txt= \"The Cheetah is faster than$the$other animals. \\nThe article in English is$the$\\n What is there?\"\n",
    "x= re.finditer(\"(^|[^a-zA-Z])[tT]he[^a-zA-Z]\",txt)\n",
    "for i,m in enumerate(x):\n",
    "    print(i)\n",
    "    printDetails(m)"
   ]
  },
  {
   "cell_type": "code",
   "execution_count": 126,
   "metadata": {},
   "outputs": [
    {
     "name": "stdout",
     "output_type": "stream",
     "text": [
      "0\n",
      "\u001b[91mThe \u001b[39mCheetah is faster than the other animals. \n",
      "The article in English is the\n",
      "1\n",
      "The Cheetah is faster than\u001b[91m the \u001b[39mother animals. \n",
      "The article in English is the\n",
      "2\n",
      "The Cheetah is faster than the other animals. \u001b[91m\n",
      "The \u001b[39marticle in English is the\n"
     ]
    }
   ],
   "source": [
    "#Find all instances of the English article \"the\" without \\b\n",
    "txt= \"The Cheetah is faster than the other animals. \\nThe article in English is the\"\n",
    "x= re.finditer(\"(^|[^a-zA-Z])[tT]he[^a-zA-Z]\",txt)\n",
    "for i,m in enumerate(x):\n",
    "    print(i)\n",
    "    printDetails(m)\n",
    "#Is it finding the last \"the\"?"
   ]
  },
  {
   "cell_type": "code",
   "execution_count": 127,
   "metadata": {},
   "outputs": [
    {
     "name": "stdout",
     "output_type": "stream",
     "text": [
      "0\n",
      "\u001b[91mThe \u001b[39mCheetah is faster than the other animals. \n",
      "The article in English is the\n",
      "1\n",
      "The Cheetah is faster than\u001b[91m the \u001b[39mother animals. \n",
      "The article in English is the\n",
      "2\n",
      "The Cheetah is faster than the other animals. \u001b[91m\n",
      "The \u001b[39marticle in English is the\n",
      "3\n",
      "The Cheetah is faster than the other animals. \n",
      "The article in English is\u001b[91m the\u001b[39m\n"
     ]
    }
   ],
   "source": [
    "#Find all instances of the English article \"the\" without \\b\n",
    "txt= \"The Cheetah is faster than the other animals. \\nThe article in English is the\"\n",
    "x= re.finditer(\"(^|[^a-zA-Z])[tT]he([^a-zA-Z]|$)\",txt)\n",
    "for i,m in enumerate(x):\n",
    "    print(i)\n",
    "    printDetails(m)"
   ]
  },
  {
   "cell_type": "code",
   "execution_count": 128,
   "metadata": {},
   "outputs": [
    {
     "name": "stdout",
     "output_type": "stream",
     "text": [
      "0\n",
      "Price of macbook is \u001b[91m$25.34\u001b[39m\n",
      "Dell laptops at $199.99 is for sale!\n",
      "Lenovo laptops starting from $150 in July, 2023.\n",
      "1\n",
      "Price of macbook is $25.34\n",
      "Dell laptops at \u001b[91m$199.99\u001b[39m is for sale!\n",
      "Lenovo laptops starting from $150 in July, 2023.\n"
     ]
    }
   ],
   "source": [
    "#Help a user buy a computer as follows:\n",
    "#any machine with at least 6 GHz and 500 GB Hard disk space for less than $1000\n",
    "#We will look out for price patterns alone, say $199.99\n",
    "txt= \"Price of macbook is $25.34\\nDell laptops at $199.99 is for sale!\\nLenovo laptops starting from $150 in July, 2023.\"\n",
    "x= re.finditer(\"\\$[0-9]{1,3}\\.[0-9][0-9]\",txt)\n",
    "for i,m in enumerate(x):\n",
    "    print(i)\n",
    "    printDetails(m)"
   ]
  },
  {
   "cell_type": "code",
   "execution_count": 129,
   "metadata": {},
   "outputs": [
    {
     "name": "stdout",
     "output_type": "stream",
     "text": [
      "0\n",
      "Price of macbook is \u001b[91m$25.34\u001b[39m\n",
      "Dell laptops at $199.99 is for sale!\n",
      "Lenovo laptops starting from $150 in July, 2023.\n",
      "1\n",
      "Price of macbook is $25.34\n",
      "Dell laptops at \u001b[91m$199.99\u001b[39m is for sale!\n",
      "Lenovo laptops starting from $150 in July, 2023.\n",
      "2\n",
      "Price of macbook is $25.34\n",
      "Dell laptops at $199.99 is for sale!\n",
      "Lenovo laptops starting from \u001b[91m$150\u001b[39m in July, 2023.\n"
     ]
    }
   ],
   "source": [
    "#Help a user buy a computer as follows:\n",
    "#any machine with at least 6 GHz and 500 GB Hard disk space for less than $1000\n",
    "#We will look out for price patterns alone, say $199.99\n",
    "txt= \"Price of macbook is $25.34\\nDell laptops at $199.99 is for sale!\\nLenovo laptops starting from $150 in July, 2023.\"\n",
    "x= re.finditer(\"\\$[0-9]{1,3}(\\.[0-9][0-9])?\",txt)\n",
    "for i,m in enumerate(x):\n",
    "    print(i)\n",
    "    printDetails(m)"
   ]
  },
  {
   "cell_type": "code",
   "execution_count": 189,
   "metadata": {},
   "outputs": [
    {
     "name": "stdout",
     "output_type": "stream",
     "text": [
      "0\n",
      "Hard disk size of 225GB at $300 and \u001b[91m1000 GB\u001b[39m and 100\n",
      "Hard disk size of 545    GB at $500 is for sale!\n",
      "\n",
      "1\n",
      "Hard disk size of 225GB at $300 and 1000 GB and 100\n",
      "Hard disk size of \u001b[91m545    GB\u001b[39m at $500 is for sale!\n",
      "\n"
     ]
    }
   ],
   "source": [
    "#Help a user buy a computer as follows:\n",
    "#any machine with at least 6 GHz and 500 GB Hard disk space for less than $1000\n",
    "#We will look out for hard disk space of number followed by GB\n",
    "txt= \"Hard disk size of 225GB at $300 and 1000 GB and 100\\nHard disk size of 545    GB at $500 is for sale!\\n\"\n",
    "# x= re.finditer(\"\\\\b[1-9]{4,}GB\",txt)\n",
    "x= re.finditer(\"([5-9][0-9]{2,}|[1-9][0-9]{3,}).*GB\",txt)\n",
    "for i,m in enumerate(x):\n",
    "    print(i)\n",
    "    printDetails(m)\n",
    "#But how do we ensure it is more than 500 GB??"
   ]
  },
  {
   "cell_type": "code",
   "execution_count": 174,
   "metadata": {},
   "outputs": [
    {
     "name": "stdout",
     "output_type": "stream",
     "text": [
      "0\n",
      "Colour \u001b[91mcolor\u001b[39m colour\n",
      "Colour color color\n"
     ]
    }
   ],
   "source": [
    "#replace a pattern\n",
    "txt= \"Colour color colour\"\n",
    "x= re.finditer(\"color\",txt)\n",
    "for i,m in enumerate(x):\n",
    "    print(i)\n",
    "    printDetails(m)\n",
    "print(re.sub(\"colour\",\"color\",txt))\n",
    "#But how do we ensure it is more than 500 GB??"
   ]
  },
  {
   "cell_type": "code",
   "execution_count": 175,
   "metadata": {},
   "outputs": [
    {
     "name": "stdout",
     "output_type": "stream",
     "text": [
      "0\n",
      "\u001b[91m123\u001b[39m is before 456\n",
      "456 is before 567\n",
      "1\n",
      "123 is before \u001b[91m456\u001b[39m\n",
      "456 is before 567\n",
      "2\n",
      "123 is before 456\n",
      "\u001b[91m456\u001b[39m is before 567\n",
      "3\n",
      "123 is before 456\n",
      "456 is before \u001b[91m567\u001b[39m\n",
      "<123> is before <456>\n",
      "<456> is before <567>\n"
     ]
    }
   ],
   "source": [
    "#replace a pattern\n",
    "txt= \"123 is before 456\\n456 is before 567\"\n",
    "x= re.finditer(\"[0-9]+\",txt)\n",
    "for i,m in enumerate(x):\n",
    "    print(i)\n",
    "    printDetails(m)\n",
    "y= re.sub(\"([0-9]+)\",r\"<\\1>\",txt)\n",
    "print(f'{y}')"
   ]
  },
  {
   "cell_type": "code",
   "execution_count": 176,
   "metadata": {},
   "outputs": [
    {
     "name": "stdout",
     "output_type": "stream",
     "text": [
      "0\n",
      "\u001b[91mThe bigger they were, the bigger they will be\u001b[39m\n",
      "The bigger they were, the larger they will be\n",
      "<bigg>\n",
      "The bigger they were, the larger they will be\n"
     ]
    }
   ],
   "source": [
    "#replace a pattern\n",
    "txt= \"The bigger they were, the bigger they will be\\nThe bigger they were, the larger they will be\"\n",
    "x= re.finditer(\"The (.*)er they were, the \\\\1er they will be\",txt)\n",
    "for i,m in enumerate(x):\n",
    "    print(i)\n",
    "    printDetails(m)\n",
    "y= re.sub(\"The (.*)er they were, the \\\\1er they will be\",\"<\\\\1>\",txt)\n",
    "print(f'{y}')"
   ]
  },
  {
   "cell_type": "code",
   "execution_count": 181,
   "metadata": {},
   "outputs": [
    {
     "name": "stdout",
     "output_type": "stream",
     "text": [
      "0\n",
      "\u001b[91mThe faster they ran, the faster we ran The faster they ran, the faster we ran\u001b[39m\n",
      "<fast><ran> <fast><ran>\n"
     ]
    }
   ],
   "source": [
    "#replace a pattern\n",
    "txt= \"The faster they ran, the faster we ran The faster they ran, the faster we ran\"\n",
    "x= re.finditer(\"The (.*)er they .* ran, the \\\\1er we ran\",txt)\n",
    "for i,m in enumerate(x):\n",
    "    print(i)\n",
    "    printDetails(m)\n",
    "y= re.sub(\"The (.*)er they (.*), the \\\\1er we \\\\2\",\"<\\\\1><\\\\2>\",txt)\n",
    "print(f'{y}')"
   ]
  },
  {
   "cell_type": "code",
   "execution_count": 182,
   "metadata": {},
   "outputs": [
    {
     "name": "stdout",
     "output_type": "stream",
     "text": [
      "0\n",
      "\u001b[91mSome cats like some cats\u001b[39m\n",
      "Some people like some people\n",
      "A few cats like some people\n",
      "1\n",
      "Some cats like some cats\n",
      "\u001b[91mSome people like some people\u001b[39m\n",
      "A few cats like some people\n",
      "<cats>\n",
      "<people>\n",
      "A few cats like some people\n"
     ]
    }
   ],
   "source": [
    "#replace a pattern\n",
    "txt= \"Some cats like some cats\\nSome people like some people\\nA few cats like some people\"\n",
    "x= re.finditer(\"(?:[sS]ome|[aA] few) (people|cats) like some \\\\1\",txt)\n",
    "for i,m in enumerate(x):\n",
    "    print(i)\n",
    "    printDetails(m)\n",
    "y= re.sub(\"(?:[sS]ome|[aA] few) (people|cats) like some \\\\1\",\"<\\\\1>\",txt)\n",
    "print(f'{y}')"
   ]
  }
 ],
 "metadata": {
  "kernelspec": {
   "display_name": "Python 3",
   "language": "python",
   "name": "python3"
  },
  "language_info": {
   "codemirror_mode": {
    "name": "ipython",
    "version": 3
   },
   "file_extension": ".py",
   "mimetype": "text/x-python",
   "name": "python",
   "nbconvert_exporter": "python",
   "pygments_lexer": "ipython3",
   "version": "3.11.4"
  },
  "orig_nbformat": 4
 },
 "nbformat": 4,
 "nbformat_minor": 2
}
